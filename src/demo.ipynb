{
 "cells": [
  {
   "cell_type": "markdown",
   "metadata": {},
   "source": [
    "instantiate package"
   ]
  },
  {
   "cell_type": "code",
   "execution_count": 1,
   "metadata": {},
   "outputs": [
    {
     "name": "stderr",
     "output_type": "stream",
     "text": [
      "┌ Info: OMEinsum loaded the CUDA module successfully\n",
      "└ @ OMEinsum E:\\juliapkg\\packages\\OMEinsum\\vgB8s\\src\\cueinsum.jl:117\n"
     ]
    }
   ],
   "source": [
    "using Pkg\n",
    "Pkg.instantiate()\n",
    "using TeneT"
   ]
  },
  {
   "cell_type": "markdown",
   "metadata": {},
   "source": [
    "# 2D classical Ising model\n",
    "The ''energy'' of a configuration $\\sigma$ is given by the Hamiltonian function:\n",
    "\n",
    "$H(\\sigma) = -\\sum_{\\langle i~j\\rangle} J \\sigma_i \\sigma_j$  ($J>0$)\n",
    "\n",
    "The Boltzmann factor is:\n",
    "\n",
    "$W_{i~j} = e^{-\\beta E_{i~j}}$\n",
    "\n",
    "We can solve this model by TeneT.jl in follow steps:"
   ]
  },
  {
   "cell_type": "markdown",
   "metadata": {},
   "source": [
    "## Step 1: define M tensor\n",
    " <img src=\"../picture/build_M_tensor.png\" width = \"30%\" height = \"30%\" align=center />"
   ]
  },
  {
   "cell_type": "code",
   "execution_count": 2,
   "metadata": {},
   "outputs": [
    {
     "data": {
      "text/plain": [
       "model_tensor (generic function with 3 methods)"
      ]
     },
     "metadata": {},
     "output_type": "display_data"
    }
   ],
   "source": [
    "using TeneT: _arraytype\n",
    "using OMEinsum\n",
    "using Zygote\n",
    "\n",
    "const isingβc = log(1+sqrt(2))/2\n",
    "\n",
    "abstract type HamiltonianModel end\n",
    "\n",
    "struct Ising <: HamiltonianModel \n",
    "    Ni::Int\n",
    "    Nj::Int\n",
    "    β::Float64\n",
    "end\n",
    "\n",
    "\"\"\"\n",
    "    model_tensor(model::Ising, type)\n",
    "return the  `MT <: HamiltonianModel` `type` tensor at inverse temperature `β` for  two-dimensional\n",
    "square lattice tensor-network.\n",
    "\"\"\"\n",
    "function model_tensor(model::Ising, ::Val{:bulk})\n",
    "    Ni, Nj, β = model.Ni, model.Nj, model.β\n",
    "    ham = Zygote.@ignore ComplexF64[-1. 1;1 -1]\n",
    "    w = exp.(- β * ham)\n",
    "    wsq = sqrt(w)\n",
    "    m = ein\"ia,ib,ic,id -> abcd\"(wsq, wsq, wsq, wsq)\n",
    "\n",
    "    M = Zygote.Buffer(m, 2,2,2,2,Ni,Nj)\n",
    "    @inbounds @views for j = 1:Nj,i = 1:Ni\n",
    "        M[:,:,:,:,i,j] = m\n",
    "    end\n",
    "    return copy(M)\n",
    "end\n",
    "\n",
    "function model_tensor(model::Ising, ::Val{:mag})\n",
    "    Ni, Nj, β = model.Ni, model.Nj, model.β\n",
    "    a = reshape(ComplexF64[1 0 0 0; 0 0 0 0; 0 0 0 0; 0 0 0 -1], 2,2,2,2)\n",
    "    cβ, sβ = sqrt(cosh(β)), sqrt(sinh(β))\n",
    "    q = 1/sqrt(2) * [cβ+sβ cβ-sβ; cβ-sβ cβ+sβ]\n",
    "    m = ein\"abcd,ai,bj,ck,dl -> ijkl\"(a,q,q,q,q)\n",
    "    M = Zygote.Buffer(m, 2,2,2,2,Ni,Nj)\n",
    "    @inbounds @views for j = 1:Nj,i = 1:Ni\n",
    "        M[:,:,:,:,i,j] = m\n",
    "    end\n",
    "    return copy(M)\n",
    "end\n",
    "\n",
    "function model_tensor(model::Ising, ::Val{:energy})\n",
    "    Ni, Nj, β = model.Ni, model.Nj, model.β\n",
    "    ham = ComplexF64[-1 1;1 -1]\n",
    "    w = exp.(-β .* ham)\n",
    "    we = ham .* w\n",
    "    wsq = sqrt(w)\n",
    "    wsqi = wsq^(-1)\n",
    "    e = (ein\"ai,im,bm,cm,dm -> abcd\"(wsqi,we,wsq,wsq,wsq) + ein\"am,bi,im,cm,dm -> abcd\"(wsq,wsqi,we,wsq,wsq) + \n",
    "        ein\"am,bm,ci,im,dm -> abcd\"(wsq,wsq,wsqi,we,wsq) + ein\"am,bm,cm,di,im -> abcd\"(wsq,wsq,wsq,wsqi,we)) / 2\n",
    "    M = Zygote.Buffer(e, 2,2,2,2,Ni,Nj)\n",
    "    @inbounds @views for j = 1:Nj,i = 1:Ni\n",
    "        M[:,:,:,:,i,j] = e\n",
    "    end\n",
    "    return copy(M)\n",
    "end"
   ]
  },
  {
   "cell_type": "markdown",
   "metadata": {},
   "source": [
    "## Step 2: use TeneT.obs_env to get environment"
   ]
  },
  {
   "cell_type": "code",
   "execution_count": 3,
   "metadata": {},
   "outputs": [
    {
     "name": "stdout",
     "output_type": "stream",
     "text": [
      "↑ "
     ]
    },
    {
     "name": "stdout",
     "output_type": "stream",
     "text": [
      "random initial 1×1 vumps_χ10 environment-> "
     ]
    },
    {
     "name": "stdout",
     "output_type": "stream",
     "text": [
      "vumps@step: 1, error=Inf"
     ]
    },
    {
     "name": "stdout",
     "output_type": "stream",
     "text": [
      "\n",
      "vumps@step: 2, error=0.01730159744333545\n",
      "vumps@step: 3, error=0.0006110217932778949\n",
      "vumps@step: 4, error=8.525419213658111e-7\n",
      "vumps@step: 5, error=1.486693561895049e-7\n",
      "vumps@step: 6, error=3.5210780596961775e-8\n"
     ]
    },
    {
     "name": "stdout",
     "output_type": "stream",
     "text": [
      "vumps@step: 7, error=7.535505333349743e-9\n",
      "vumps@step: 8, error=1.640536608963289e-9\n",
      "vumps@step: 9, error=3.7020363904278236e-10\n",
      "vumps done@step: 9, error=8.508814802635002e-11\n"
     ]
    }
   ],
   "source": [
    "using Random\n",
    "Random.seed!(100)\n",
    "\n",
    "β = 0.5\n",
    "model = Ising(1, 1, β)\n",
    "M = model_tensor(model, Val(:bulk))\n",
    "env = TeneT.obs_env(M; χ=10, maxiter=10, miniter=1, \n",
    "                    updown=false, verbose=true, show_every=1);"
   ]
  },
  {
   "cell_type": "markdown",
   "metadata": {},
   "source": [
    "## Step 3: use env to calculate observable"
   ]
  },
  {
   "cell_type": "code",
   "execution_count": 4,
   "metadata": {},
   "outputs": [
    {
     "data": {
      "text/plain": [
       "magofβ"
      ]
     },
     "metadata": {},
     "output_type": "display_data"
    }
   ],
   "source": [
    "using TeneT: ALCtoAC\n",
    "\"\"\"\n",
    "    observable(env, model::MT, type)\n",
    "return the `type` observable of the `model`. Requires that `type` tensor defined in model_tensor(model, Val(:type)).\n",
    "\"\"\"\n",
    "function observable(env, model::MT, ::Val{:Z}) where {MT <: HamiltonianModel}\n",
    "    _, ALu, Cu, ARu, ALd, Cd, ARd, FL, FR, FLu, FRu = env\n",
    "    atype = _arraytype(ALu)\n",
    "    M   = atype(model_tensor(model, Val(:bulk)))\n",
    "    χ,D,Ni,Nj = size(ALu)[[1,2,4,5]]\n",
    "    \n",
    "    z_tol = 1\n",
    "    ACu = ALCtoAC(ALu, Cu)\n",
    "\n",
    "    for j = 1:Nj,i = 1:Ni\n",
    "        ir = i + 1 - Ni * (i==Ni)\n",
    "        jr = j + 1 - Nj * (j==Nj)\n",
    "        z = ein\"(((adf,abc),dgeb),ceh),fgh ->\"(FLu[:,:,:,i,j],ACu[:,:,:,i,j],M[:,:,:,:,i,j],FRu[:,:,:,i,j],conj(ACu[:,:,:,ir,j]))\n",
    "        λ = ein\"(acd,ab),(bce,de) ->\"(FLu[:,:,:,i,jr],Cu[:,:,i,j],FRu[:,:,:,i,j],conj(Cu[:,:,ir,j]))\n",
    "        z_tol *= Array(z)[]/Array(λ)[]\n",
    "    end\n",
    "    return z_tol^(1/Ni/Nj)\n",
    "end\n",
    "\n",
    "function observable(env, model::MT, type) where {MT <: HamiltonianModel}\n",
    "    _, ALu, Cu, ARu, ALd, Cd, ARd, FL, FR, FLu, FRu = env\n",
    "    χ,D,Ni,Nj = size(ALu)[[1,2,4,5]]\n",
    "    atype = _arraytype(ALu)\n",
    "    M     = atype(model_tensor(model, Val(:bulk)))\n",
    "    M_obs = atype(model_tensor(model, type      ))\n",
    "    obs_tol = 0\n",
    "    ACu = ALCtoAC(ALu, Cu)\n",
    "    ACd = ALCtoAC(ALd, Cd)\n",
    "\n",
    "    for j = 1:Nj,i = 1:Ni\n",
    "        ir = Ni + 1 - i\n",
    "        obs = ein\"(((adf,abc),dgeb),fgh),ceh -> \"(FL[:,:,:,i,j],ACu[:,:,:,i,j],M_obs[:,:,:,:,i,j],ACd[:,:,:,ir,j],FR[:,:,:,i,j])\n",
    "        λ = ein\"(((adf,abc),dgeb),fgh),ceh -> \"(FL[:,:,:,i,j],ACu[:,:,:,i,j],M[:,:,:,:,i,j],ACd[:,:,:,ir,j],FR[:,:,:,i,j])\n",
    "        obs_tol += Array(obs)[]/Array(λ)[]\n",
    "    end\n",
    "    if type == Val(:mag)\n",
    "        obs_tol = abs(obs_tol)\n",
    "    end\n",
    "    return obs_tol/Ni/Nj\n",
    "end\n",
    "\n",
    "\"\"\"\n",
    "    magofβ(::Ising,β)\n",
    "return the analytical result for the magnetisation at inverse temperature\n",
    "`β` for the 2d classical ising model.\n",
    "\"\"\"\n",
    "magofβ(model::Ising) = model.β > isingβc ? (1-sinh(2*model.β)^-4)^(1/8) : 0."
   ]
  },
  {
   "cell_type": "code",
   "execution_count": 5,
   "metadata": {},
   "outputs": [
    {
     "name": "stdout",
     "output_type": "stream",
     "text": [
      "\u001b[0m\u001b[1mTest Summary:                | \u001b[22m\u001b[32m\u001b[1mPass  \u001b[22m\u001b[39m"
     ]
    },
    {
     "name": "stdout",
     "output_type": "stream",
     "text": [
      "\u001b[36m\u001b[1mTotal\u001b[22m\u001b[39m\n",
      "1x1 ising forward with Array | \u001b[32m   3  \u001b[39m\u001b[36m    3\u001b[39m\n"
     ]
    },
    {
     "data": {
      "text/plain": [
       "1-element Vector{Any}:\n",
       " Test.DefaultTestSet(\"1x1 ising forward with Array\", Any[], 3, false, false)"
      ]
     },
     "metadata": {},
     "output_type": "display_data"
    }
   ],
   "source": [
    "using Test\n",
    "\n",
    "@testset \"$(Ni)x$(Nj) ising forward with $atype\" for Ni = [1], Nj = [1], atype = [Array]\n",
    "    Random.seed!(100)\n",
    "    β = 0.5\n",
    "    model = Ising(Ni, Nj, β)\n",
    "    M = atype(model_tensor(model, Val(:bulk)))\n",
    "    env = obs_env(M; χ = 10, maxiter = 10, miniter = 1, \n",
    "         infolder = \"./example/data/$model/\", \n",
    "        outfolder = \"./example/data/$model/\", \n",
    "        updown = false, verbose = false, savefile = false\n",
    "        )\n",
    "    @test observable(env, model, Val(:Z)     ) ≈ 2.789305993957602\n",
    "    @test observable(env, model, Val(:mag)   ) ≈ magofβ(model) \n",
    "    @test observable(env, model, Val(:energy)) ≈ -1.745564581767667\n",
    "end"
   ]
  },
  {
   "cell_type": "markdown",
   "metadata": {},
   "source": [
    "## Step 4(optional): calculate energy by Zygote.gradient"
   ]
  },
  {
   "cell_type": "code",
   "execution_count": 6,
   "metadata": {},
   "outputs": [
    {
     "name": "stdout",
     "output_type": "stream",
     "text": [
      "\u001b[0m\u001b[1mTest Summary:                 | \u001b[22m\u001b[32m\u001b[1mPass  \u001b[22m\u001b[39m\u001b[36m\u001b[1mTotal\u001b[22m\u001b[39m\n",
      "1x1 ising backward with Array | \u001b[32m   1  \u001b[39m\u001b[36m    1\u001b[39m\n"
     ]
    },
    {
     "data": {
      "text/plain": [
       "1-element Vector{Any}:\n",
       " Test.DefaultTestSet(\"1x1 ising backward with Array\", Any[], 1, false, false)"
      ]
     },
     "metadata": {},
     "output_type": "display_data"
    }
   ],
   "source": [
    "@testset \"$(Ni)x$(Nj) ising backward with $atype\" for Ni = [1], Nj = [1], atype = [Array]\n",
    "    Random.seed!(100)\n",
    "    function logZ(β)\n",
    "        model = Ising(1, 1, β)\n",
    "        M = model_tensor(model, Val(:bulk))\n",
    "        env = obs_env(M;χ = 10, maxiter = 10, miniter = 1, \n",
    "                        updown = false, verbose = false, savefile = false\n",
    "                    )\n",
    "        log(real(observable(env, model, Val(:Z))))\n",
    "    end\n",
    "    @test Zygote.gradient(β->-logZ(β), 0.5)[1] ≈ -1.745564581767667\n",
    "end"
   ]
  },
  {
   "cell_type": "markdown",
   "metadata": {},
   "source": [
    "<font size=5>*try different Temperature $\\beta$, bond dimension $\\chi$, unit cell size $Ni \\times Nj$ and CuArray with GPU!*</font>"
   ]
  },
  {
   "cell_type": "markdown",
   "metadata": {},
   "source": [
    "# Finding the Ground State of infinite 2D Heisenberg model\n",
    "The Heisenberg Hamiltonian function is:\n",
    "\n",
    "$H = \\sum_{\\langle i~j\\rangle} J^x S_i^x S_j^x + J^y S_i^y S_j^y + J^z S_i^z S_j^z $\n",
    "\n",
    "\n"
   ]
  },
  {
   "cell_type": "code",
   "execution_count": 7,
   "metadata": {},
   "outputs": [
    {
     "data": {
      "text/plain": [
       "hamiltonian"
      ]
     },
     "metadata": {},
     "output_type": "display_data"
    }
   ],
   "source": [
    "\"\"\"\n",
    "    Heisenberg(Jz::T,Jx::T,Jy::T) where {T<:Real}\n",
    "    \n",
    "return a struct representing the heisenberg model with magnetisation fields `Jz`, `Jx` and `Jy`..\n",
    "\"\"\"\n",
    "struct Heisenberg{T<:Real} <: HamiltonianModel\n",
    "    Jx::T\n",
    "    Jy::T\n",
    "    Jz::T\n",
    "end\n",
    "Heisenberg() = Heisenberg(1.0,1.0,1.0)\n",
    "\n",
    "\n",
    "Sx = Float64[0 1; 1 0]/2\n",
    "Sy = ComplexF64[0 -1im; 1im 0]/2\n",
    "Sz = Float64[1 0; 0 -1]/2\n",
    "\"\"\"\n",
    "    hamiltonian(model::Heisenberg)\n",
    "\n",
    "return the heisenberg hamiltonian for the `model` as a two-site operator.\n",
    "\"\"\"\n",
    "function hamiltonian(model::Heisenberg)\n",
    "    h = model.Jx * ein\"ij,kl -> ijkl\"(Sx, Sx) +\n",
    "        model.Jy * ein\"ij,kl -> ijkl\"(Sy, Sy) +\n",
    "        model.Jz * ein\"ij,kl -> ijkl\"(Sz, Sz)\n",
    "end"
   ]
  },
  {
   "cell_type": "markdown",
   "metadata": {},
   "source": [
    "The algorithm variationally minimizes the energy of a Heisenberg model on a two-dimensional infinite lattice using a form of gradient descent."
   ]
  },
  {
   "cell_type": "markdown",
   "metadata": {},
   "source": [
    "## Step 1: initial iPEPS tensor"
   ]
  },
  {
   "cell_type": "code",
   "execution_count": 8,
   "metadata": {},
   "outputs": [
    {
     "data": {
      "text/plain": [
       "init_ipeps"
      ]
     },
     "metadata": {},
     "output_type": "display_data"
    }
   ],
   "source": [
    "using LinearAlgebra: norm\n",
    "\n",
    "\"\"\"\n",
    "    init_ipeps(model::HamiltonianModel; D::Int, χ::Int, tol::Real, maxiter::Int)\n",
    "Initial `bcipeps` and give `key` for use of later optimization. The key include `model`, `D`, `χ`, `tol` and `maxiter`. \n",
    "The iPEPS is random initial if there isn't any calculation before, otherwise will be load from file `/data/model_D_chi_tol_maxiter.jld2`\n",
    "\"\"\"\n",
    "function init_ipeps(model::HamiltonianModel; folder::String=\"./data/\", atype = Array, Ni::Int, Nj::Int, D::Int, χ::Int, tol::Real=1e-10, maxiter::Int=10, miniter::Int=1, verbose = true)\n",
    "    folder *= \"$(Ni)x$(Nj)/$(model)/\"\n",
    "    mkpath(folder)\n",
    "    chkp_file = folder*\"D$(D)_chi$(χ)_tol$(tol)_maxiter$(maxiter)_miniter$(miniter).jld2\"\n",
    "    if isfile(chkp_file)\n",
    "        A = load(chkp_file)[\"bcipeps\"]\n",
    "        verbose && println(\"load BCiPEPS from $chkp_file\")\n",
    "    else\n",
    "        A = rand(ComplexF64,D,D,D,D,2,Ni,Nj)\n",
    "        verbose && println(\"random initial BCiPEPS $chkp_file\")\n",
    "    end\n",
    "    A /= norm(A)\n",
    "    key = (folder, model, atype, Ni, Nj, D, χ, tol, maxiter, miniter)\n",
    "    return A, key\n",
    "end"
   ]
  },
  {
   "cell_type": "code",
   "execution_count": 9,
   "metadata": {},
   "outputs": [
    {
     "name": "stdout",
     "output_type": "stream",
     "text": [
      "random initial BCiPEPS ./data/1x1/Heisenberg{Float64}(-1.0, -1.0, 1.0)/D2_chi10_tol1.0e-10_maxiter10_miniter1.jld2"
     ]
    },
    {
     "name": "stdout",
     "output_type": "stream",
     "text": [
      "\n"
     ]
    }
   ],
   "source": [
    "model = Heisenberg(-1.0, -1.0, 1.0)\n",
    "A, key = init_ipeps(model; Ni=1, Nj=1, D=2, χ=10);"
   ]
  },
  {
   "cell_type": "markdown",
   "metadata": {},
   "source": [
    "## Step 2: contract the tensor network to get the energy"
   ]
  },
  {
   "cell_type": "code",
   "execution_count": 10,
   "metadata": {},
   "outputs": [
    {
     "data": {
      "text/plain": [
       "expectationvalue (generic function with 1 method)"
      ]
     },
     "metadata": {},
     "output_type": "display_data"
    }
   ],
   "source": [
    "using OMEinsumContractionOrders\n",
    "\n",
    "\"\"\"\n",
    "    oc_H, oc_V = optcont(D::Int, χ::Int)\n",
    "optimise the follow two einsum contractions for the given `D` and `χ` which are used to calculate the energy of the 2-site hamiltonian:\n",
    "```\n",
    "                                            a ────┬──── c          \n",
    "a ────┬──c ──┬──── f                        │     b     │  \n",
    "│     b      e     │                        ├─ e ─┼─ f ─┤  \n",
    "├─ g ─┼─  h ─┼─ i ─┤                        g     h     i \n",
    "│     k      n     │                        ├─ j ─┼─ k ─┤ \n",
    "j ────┴──l ──┴──── o                        │     m     │ \n",
    "                                            l ────┴──── n \n",
    "```\n",
    "where the central two block are six order tensor have extra bond `pq` and `rs`\n",
    "\"\"\"\n",
    "function optcont(D::Int, χ::Int)\n",
    "    sd = Dict('a' => χ, 'b' => D^2,'c' => χ, 'e' => D^2, 'f' => χ, 'g' => D^2, 'h' => D^2, 'i' => D^2, 'j' => χ, 'k' => D^2, 'l' => χ, 'n' => D^2, 'o' => χ, 'p' => 2, 'q' => 2, 'r' => 2, 's' => 2)\n",
    "    # for seed =20:100\n",
    "    seed = 60\n",
    "\tRandom.seed!(seed)\n",
    "\t# oc_H = optimize_code(ein\"agj,abc,gkhbpq,jkl,fio,cef,hniers,lno -> pqrs\", sd, TreeSA())\n",
    "    oc_H = ein\"(((agj,abc),gkhbpq),jkl),(((fio,cef),hniers),lno) -> pqrs\"\n",
    "\tprint(\"Horizontal Contraction Complexity(seed=$(seed))\",OMEinsum.timespace_complexity(oc_H,sd),\"\\n\")\n",
    "    \n",
    "    sd = Dict('a' => χ, 'b' => D^2, 'c' => χ, 'e' => D^2, 'f' => D^2, 'g' => χ, 'h' => D^2, 'i' => χ, 'j' => D^2, 'k' => D^2, 'l' => χ, 'm' => D^2, 'n' => χ, 'r' => 2, 's' => 2, 'p' => 2, 'q' => 2)\n",
    "    # oc_V = optimize_code(ein\"abc,aeg,ehfbpq,cfi,gjl,jmkhrs,ikn,lmn -> pqrs\", sd, TreeSA())\n",
    "    oc_V = ein\"(((abc,aeg),ehfbpq),cfi),(gjl,(jmkhrs,(ikn,lmn))) -> pqrs\"\n",
    "    print(\"Vertical Contraction Complexity(seed=$(seed))\",OMEinsum.timespace_complexity(oc_V,sd),\"\\n\") \n",
    "    oc_H, oc_V\n",
    "end\n",
    "\n",
    "\"\"\"\n",
    "    energy(h, bcipeps; χ, tol, maxiter)\n",
    "return the energy of the `bcipeps` 2-site hamiltonian `h` and calculated via a\n",
    "BCVUMPS with parameters `χ`, `tol` and `maxiter`.\n",
    "\"\"\"\n",
    "function energy(h, A, oc, key; verbose = true, savefile = true)\n",
    "    folder, model, atype, Ni, Nj, D, χ, tol, maxiter, miniter = key\n",
    "    ap = ein\"abcdeij,fghmnij->afbgchdmenij\"(A, conj(A))\n",
    "    ap = reshape(ap, D^2, D^2, D^2, D^2, 2, 2, Ni, Nj)\n",
    "    M = ein\"abcdeeij->abcdij\"(ap)\n",
    "\n",
    "    env = obs_env(M; χ = χ, tol = tol, maxiter = maxiter, miniter = miniter, verbose = verbose, savefile = savefile, infolder = folder, outfolder = folder)\n",
    "    e = expectationvalue(h, ap, env, oc, key)\n",
    "    return e\n",
    "end\n",
    "\n",
    "function expectationvalue(h, ap, env, oc, key)\n",
    "    _, ALu, Cu, ARu, ALd, Cd, ARd, FL, FR, FLu, FRu = env\n",
    "    folder, model, atype, Ni, Nj, D, χ, tol, maxiter, miniter = key\n",
    "    oc_H, oc_V = oc\n",
    "    ACu = ALCtoAC(ALu, Cu)\n",
    "    ACd = ALCtoAC(ALd, Cd)\n",
    "\n",
    "    etol = 0\n",
    "    for j = 1:Nj, i = 1:Ni\n",
    "        println(\"===========$i,$j===========\")\n",
    "        ir = Ni + 1 - i\n",
    "        jr = j + 1 - (j==Nj) * Nj\n",
    "        lr = oc_H(FL[:,:,:,i,j],ACu[:,:,:,i,j],ap[:,:,:,:,:,:,i,j],ACd[:,:,:,ir,j],FR[:,:,:,i,jr],ARu[:,:,:,i,jr],ap[:,:,:,:,:,:,i,jr],ARd[:,:,:,ir,jr])\n",
    "        e = Array(ein\"pqrs, pqrs -> \"(lr,h))[]\n",
    "        n =  Array(ein\"pprr -> \"(lr))[]\n",
    "        println(\"Horizontal energy = $(e/n)\")\n",
    "        etol += e/n\n",
    "\n",
    "        ir  =  i + 1 - (i==Ni) * Ni\n",
    "        irr = Ni - i + (i==Ni) * Ni\n",
    "        lr = oc_V(ACu[:,:,:,i,j],FLu[:,:,:,i,j],ap[:,:,:,:,:,:,i,j],FRu[:,:,:,i,j],FL[:,:,:,ir,j],ap[:,:,:,:,:,:,ir,j],FR[:,:,:,ir,j],ACd[:,:,:,irr,j])\n",
    "        e = Array(ein\"pqrs, pqrs -> \"(lr,h))[]\n",
    "        n = Array(ein\"pprr -> \"(lr))[]\n",
    "        println(\"Vertical energy = $(e/n)\")\n",
    "        etol += e/n\n",
    "    end\n",
    "\n",
    "    println(\"e = $(etol/Ni/Nj)\")\n",
    "    return etol/Ni/Nj\n",
    "end"
   ]
  },
  {
   "cell_type": "code",
   "execution_count": 11,
   "metadata": {},
   "outputs": [
    {
     "name": "stdout",
     "output_type": "stream",
     "text": [
      "Horizontal Contraction Complexity(seed=20)(18.501837184902293, 12.643856189774723)"
     ]
    }
   ],
   "source": [
    "oc = optcont(2, 10)\n",
    "h = hamiltonian(model)\n",
    "energy(h, A, oc, key; verbose = true, savefile = true);"
   ]
  },
  {
   "cell_type": "markdown",
   "metadata": {},
   "source": [
    "## Step 3: optimise the ipeps by gradient"
   ]
  },
  {
   "cell_type": "code",
   "execution_count": null,
   "metadata": {},
   "outputs": [],
   "source": [
    "using FileIO\n",
    "using LineSearches\n",
    "using Optim\n",
    "\n",
    "\"\"\"\n",
    "    optimiseipeps(A::AbstractArray, key; f_tol = 1e-6, opiter = 100, verbose= false, optimmethod = LBFGS(m = 20))\n",
    "\n",
    "return the tensor `A'` that describes an ipeps that minimises the energy of the\n",
    "two-site hamiltonian `h`. The minimization is done using `Optim` with default-method\n",
    "`LBFGS`. Alternative methods can be specified by loading `LineSearches` and\n",
    "providing `optimmethod`. Other options to optim can be passed with `optimargs`.\n",
    "The energy is calculated using vumps with key include parameters `χ`, `tol` and `maxiter`.\n",
    "\"\"\"\n",
    "function optimiseipeps(A::AbstractArray, key; f_tol = 1e-6, opiter = 100, verbose= false, optimmethod = LBFGS(m = 20))\n",
    "    folder, model, atype, Ni, Nj, D, χ, tol, maxiter, miniter = key\n",
    "\n",
    "    h = hamiltonian(model)\n",
    "    oc = optcont(D, χ)\n",
    "    f(x) = real(energy(h, x, oc, key))\n",
    "    g(x) = Zygote.gradient(f,x)[1]\n",
    "    res = optimize(f, g, \n",
    "        A, optimmethod,inplace = false,\n",
    "        Optim.Options(f_tol=f_tol, iterations=opiter,\n",
    "        extended_trace=true,\n",
    "        callback=os->writelog(os, key)),\n",
    "        )\n",
    "    return res\n",
    "end\n",
    "\n",
    "\"\"\"\n",
    "    writelog(os::OptimizationState, key=nothing)\n",
    "\n",
    "return the optimise infomation of each step, including `time` `iteration` `energy` and `g_norm`, saved in `/data/model_D_chi_tol_maxiter.log`. Save the final `ipeps` in file `/data/model_D_chi_tol_maxiter.jid2`\n",
    "\"\"\"\n",
    "function writelog(os::OptimizationState, key=nothing)\n",
    "    message = \"$(round(os.metadata[\"time\"],digits=2))   $(os.iteration)   $(os.value)   $(os.g_norm)\\n\"\n",
    "\n",
    "    printstyled(message; bold=true, color=:red)\n",
    "    flush(stdout)\n",
    "\n",
    "    folder, model, atype, Ni, Nj, D, χ, tol, maxiter, miniter = key\n",
    "    !(isdir(folder)) && mkdir(folder)\n",
    "    if !(key === nothing)\n",
    "        logfile = open(folder*\"D$(D)_χ$(χ)_tol$(tol)_maxiter$(maxiter).log\", \"a\")\n",
    "        write(logfile, message)\n",
    "        close(logfile)\n",
    "        save(folder*\"D$(D)_χ$(χ)_tol$(tol)_maxiter$(maxiter).jld2\", \"bcipeps\", os.metadata[\"x\"])\n",
    "    end\n",
    "    return false\n",
    "end"
   ]
  },
  {
   "cell_type": "code",
   "execution_count": null,
   "metadata": {},
   "outputs": [],
   "source": [
    "optimiseipeps(A, key; f_tol = 1e-6, opiter = 100, verbose= false, optimmethod = LBFGS(m = 20))"
   ]
  },
  {
   "cell_type": "code",
   "execution_count": null,
   "metadata": {},
   "outputs": [],
   "source": [
    "1+1"
   ]
  }
 ],
 "metadata": {
  "kernelspec": {
   "display_name": "Julia 1.7.3",
   "language": "julia",
   "name": "julia-1.7"
  },
  "language_info": {
   "file_extension": ".jl",
   "mimetype": "application/julia",
   "name": "julia",
   "version": "1.7.3"
  },
  "orig_nbformat": 4
 },
 "nbformat": 4,
 "nbformat_minor": 2
}
