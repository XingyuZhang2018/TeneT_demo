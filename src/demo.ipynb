{
 "cells": [
  {
   "cell_type": "markdown",
   "metadata": {},
   "source": [
    "instantiate package"
   ]
  },
  {
   "cell_type": "code",
   "execution_count": 8,
   "metadata": {},
   "outputs": [
    {
     "name": "stderr",
     "output_type": "stream",
     "text": [
      "\u001b[32m\u001b[1m  Activating\u001b[22m\u001b[39m project at `e:\\1 - research\\4.9 - AutoDiff\\TeneT_demo`\n"
     ]
    },
    {
     "name": "stderr",
     "output_type": "stream",
     "text": [
      "\u001b[32m\u001b[1m    Updating\u001b[22m\u001b[39m registry at `E:\\juliapkg\\registries\\General.toml`\n"
     ]
    },
    {
     "name": "stderr",
     "output_type": "stream",
     "text": [
      "\u001b[32m\u001b[1m    Updating\u001b[22m\u001b[39m `E:\\1 - research\\4.9 - AutoDiff\\TeneT_demo\\Project.toml`\n",
      " \u001b[90m [5789e2e9] \u001b[39m\u001b[92m+ FileIO v1.16.0\u001b[39m\n",
      " \u001b[90m [d3d80556] \u001b[39m\u001b[92m+ LineSearches v7.2.0\u001b[39m\n",
      " \u001b[90m [ebe7aa44] \u001b[39m\u001b[92m+ OMEinsum v0.7.2\u001b[39m\n",
      " \u001b[90m [6f22d1fd] \u001b[39m\u001b[92m+ OMEinsumContractionOrders v0.8.1\u001b[39m\n",
      " \u001b[90m [429524aa] \u001b[39m\u001b[92m+ Optim v1.7.4\u001b[39m\n",
      " \u001b[90m [260a78e0] \u001b[39m\u001b[92m+ TeneT v0.1.0\u001b[39m\n",
      " \u001b[90m [e88e6eb3] \u001b[39m\u001b[92m+ Zygote v0.6.51\u001b[39m\n",
      "\u001b[32m\u001b[1m    Updating\u001b[22m\u001b[39m `E:\\1 - research\\4.9 - AutoDiff\\TeneT_demo\\Manifest.toml`\n",
      " \u001b[90m [621f4979] \u001b[39m\u001b[92m+ AbstractFFTs v1.2.1\u001b[39m\n",
      " \u001b[90m [1520ce14] \u001b[39m\u001b[92m+ AbstractTrees v0.4.3\u001b[39m\n",
      " \u001b[90m [79e6a3ab] \u001b[39m\u001b[92m+ Adapt v3.4.0\u001b[39m\n",
      " \u001b[90m [30b0a656] \u001b[39m\u001b[92m+ ArrayInterfaceCore v0.1.26\u001b[39m\n",
      " \u001b[90m [ab4f0b2a] \u001b[39m\u001b[92m+ BFloat16s v0.2.0\u001b[39m\n",
      " \u001b[90m [a9ab73d0] \u001b[39m\u001b[92m+ BatchedRoutines v0.2.2\u001b[39m\n",
      " \u001b[90m [7cffe744] \u001b[39m\u001b[92m+ BetterExp v0.1.0\u001b[39m\n",
      " \u001b[90m [fa961155] \u001b[39m\u001b[92m+ CEnum v0.4.2\u001b[39m\n",
      " \u001b[90m [052768ef] \u001b[39m\u001b[92m+ CUDA v3.12.0\u001b[39m\n",
      " \u001b[90m [082447d4] \u001b[39m\u001b[92m+ ChainRules v1.45.0\u001b[39m\n",
      " \u001b[90m [d360d2e6] \u001b[39m\u001b[92m+ ChainRulesCore v1.15.6\u001b[39m\n",
      " \u001b[90m [9e997f8a] \u001b[39m\u001b[92m+ ChangesOfVariables v0.1.4\u001b[39m\n",
      " \u001b[90m [861a8166] \u001b[39m\u001b[92m+ Combinatorics v1.0.2\u001b[39m\n",
      " \u001b[90m [bbf7d656] \u001b[39m\u001b[92m+ CommonSubexpressions v0.3.0\u001b[39m\n",
      " \u001b[90m [34da2185] \u001b[39m\u001b[92m+ Compat v4.5.0\u001b[39m\n",
      " \u001b[90m [187b0558] \u001b[39m\u001b[92m+ ConstructionBase v1.4.1\u001b[39m\n",
      " \u001b[90m [9a962f9c] \u001b[39m\u001b[92m+ DataAPI v1.13.0\u001b[39m\n",
      " \u001b[90m [864edb3b] \u001b[39m\u001b[92m+ DataStructures v0.18.13\u001b[39m\n",
      " \u001b[90m [e2d170a0] \u001b[39m\u001b[92m+ DataValueInterfaces v1.0.0\u001b[39m\n",
      " \u001b[90m [163ba53b] \u001b[39m\u001b[92m+ DiffResults v1.1.0\u001b[39m\n",
      " \u001b[90m [b552c78f] \u001b[39m\u001b[92m+ DiffRules v1.12.2\u001b[39m\n",
      " \u001b[90m [ffbed154] \u001b[39m\u001b[92m+ DocStringExtensions v0.9.2\u001b[39m\n",
      " \u001b[90m [e2ba6199] \u001b[39m\u001b[92m+ ExprTools v0.1.8\u001b[39m\n",
      " \u001b[90m [5789e2e9] \u001b[39m\u001b[92m+ FileIO v1.16.0\u001b[39m\n",
      " \u001b[90m [1a297f60] \u001b[39m\u001b[92m+ FillArrays v0.13.5\u001b[39m\n",
      " \u001b[90m [6a86dc24] \u001b[39m\u001b[92m+ FiniteDiff v2.17.0\u001b[39m\n",
      " \u001b[90m [f6369f11] \u001b[39m\u001b[92m+ ForwardDiff v0.10.32\u001b[39m\n",
      " \u001b[90m [0c68f7d7] \u001b[39m\u001b[92m+ GPUArrays v8.5.0\u001b[39m\n",
      " \u001b[90m [46192b85] \u001b[39m\u001b[92m+ GPUArraysCore v0.1.2\u001b[39m\n",
      " \u001b[90m [61eb1bfa] \u001b[39m\u001b[92m+ GPUCompiler v0.16.7\u001b[39m\n",
      " \u001b[90m [7869d1d1] \u001b[39m\u001b[92m+ IRTools v0.4.7\u001b[39m\n"
     ]
    },
    {
     "name": "stderr",
     "output_type": "stream",
     "text": [
      " \u001b[90m [3587e190] \u001b[39m\u001b[92m+ InverseFunctions v0.1.8\u001b[39m\n",
      " \u001b[90m [92d709cd] \u001b[39m\u001b[92m+ IrrationalConstants v0.1.1\u001b[39m\n",
      " \u001b[90m [c8e1da08] \u001b[39m\u001b[92m+ IterTools v1.4.0\u001b[39m\n",
      " \u001b[90m [82899510] \u001b[39m\u001b[92m+ IteratorInterfaceExtensions v1.0.0\u001b[39m\n",
      " \u001b[90m [033835bb] \u001b[39m\u001b[92m+ JLD2 v0.4.29\u001b[39m\n",
      " \u001b[90m [692b3bcd] \u001b[39m\u001b[92m+ JLLWrappers v1.4.1\u001b[39m\n",
      " \u001b[90m [682c06a0] \u001b[39m\u001b[92m+ JSON v0.21.3\u001b[39m\n",
      " \u001b[90m [0b1a1467] \u001b[39m\u001b[92m+ KrylovKit v0.5.4\u001b[39m\n",
      " \u001b[90m [929cbde3] \u001b[39m\u001b[92m+ LLVM v4.14.1\u001b[39m\n",
      " \u001b[90m [d3d80556] \u001b[39m\u001b[92m+ LineSearches v7.2.0\u001b[39m\n",
      " \u001b[90m [2ab3a3ac] \u001b[39m\u001b[92m+ LogExpFunctions v0.3.19\u001b[39m\n",
      " \u001b[90m [1914dd2f] \u001b[39m\u001b[92m+ MacroTools v0.5.10\u001b[39m\n",
      " \u001b[90m [e1d29d7a] \u001b[39m\u001b[92m+ Missings v1.0.2\u001b[39m\n",
      " \u001b[90m [d41bc354] \u001b[39m\u001b[92m+ NLSolversBase v7.8.3\u001b[39m\n",
      " \u001b[90m [77ba4419] \u001b[39m\u001b[92m+ NaNMath v1.0.1\u001b[39m\n",
      " \u001b[90m [ebe7aa44] \u001b[39m\u001b[92m+ OMEinsum v0.7.2\u001b[39m\n",
      " \u001b[90m [6f22d1fd] \u001b[39m\u001b[92m+ OMEinsumContractionOrders v0.8.1\u001b[39m\n",
      " \u001b[90m [429524aa] \u001b[39m\u001b[92m+ Optim v1.7.4\u001b[39m\n",
      " \u001b[90m [bac558e1] \u001b[39m\u001b[92m+ OrderedCollections v1.4.1\u001b[39m\n",
      " \u001b[90m [d96e819e] \u001b[39m\u001b[92m+ Parameters v0.12.3\u001b[39m\n",
      " \u001b[90m [69de0a69] \u001b[39m\u001b[92m+ Parsers v2.5.1\u001b[39m\n",
      " \u001b[90m [85a6dd25] \u001b[39m\u001b[92m+ PositiveFactorizations v0.2.4\u001b[39m\n",
      " \u001b[90m [21216c6a] \u001b[39m\u001b[92m+ Preferences v1.3.0\u001b[39m\n",
      " \u001b[90m [74087812] \u001b[39m\u001b[92m+ Random123 v1.6.0\u001b[39m\n",
      " \u001b[90m [e6cf234a] \u001b[39m\u001b[92m+ RandomNumbers v1.5.3\u001b[39m\n",
      " \u001b[90m [c1ae055f] \u001b[39m\u001b[92m+ RealDot v0.1.0\u001b[39m\n",
      " \u001b[90m [189a3867] \u001b[39m\u001b[92m+ Reexport v1.2.2\u001b[39m\n",
      " \u001b[90m [ae029012] \u001b[39m\u001b[92m+ Requires v1.3.0\u001b[39m\n",
      " \u001b[90m [efcf1570] \u001b[39m\u001b[92m+ Setfield v1.1.1\u001b[39m\n",
      " \u001b[90m [66db9d55] \u001b[39m\u001b[92m+ SnoopPrecompile v1.0.1\u001b[39m\n",
      " \u001b[90m [a2af1166] \u001b[39m\u001b[92m+ SortingAlgorithms v1.1.0\u001b[39m\n",
      " \u001b[90m [276daf66] \u001b[39m\u001b[92m+ SpecialFunctions v2.1.7\u001b[39m\n",
      " \u001b[90m [90137ffa] \u001b[39m\u001b[92m+ StaticArrays v1.5.11\u001b[39m\n",
      " \u001b[90m [1e83bf80] \u001b[39m\u001b[92m+ StaticArraysCore v1.4.0\u001b[39m\n",
      " \u001b[90m [82ae8749] \u001b[39m\u001b[92m+ StatsAPI v1.5.0\u001b[39m\n",
      " \u001b[90m [2913bbd2] \u001b[39m\u001b[92m+ StatsBase v0.33.21\u001b[39m\n",
      " \u001b[90m [09ab397b] \u001b[39m\u001b[92m+ StructArrays v0.6.13\u001b[39m\n",
      " \u001b[90m [fd094767] \u001b[39m\u001b[92m+ Suppressor v0.2.1\u001b[39m\n",
      " \u001b[90m [3783bdb8] \u001b[39m\u001b[92m+ TableTraits v1.0.1\u001b[39m\n",
      " \u001b[90m [bd369af6] \u001b[39m\u001b[92m+ Tables v1.10.0\u001b[39m\n",
      " \u001b[90m [260a78e0] \u001b[39m\u001b[92m+ TeneT v0.1.0\u001b[39m\n",
      " \u001b[90m [a759f4b9] \u001b[39m\u001b[92m+ TimerOutputs v0.5.22\u001b[39m\n",
      " \u001b[90m [3bb67fe8] \u001b[39m\u001b[92m+ TranscodingStreams v0.9.10\u001b[39m\n",
      " \u001b[90m [9d95972d] \u001b[39m\u001b[92m+ TupleTools v1.3.0\u001b[39m\n",
      " \u001b[90m [3a884ed6] \u001b[39m\u001b[92m+ UnPack v1.0.2\u001b[39m\n",
      " \u001b[90m [e88e6eb3] \u001b[39m\u001b[92m+ Zygote v0.6.51\u001b[39m\n",
      " \u001b[90m [700de1a5] \u001b[39m\u001b[92m+ ZygoteRules v0.2.2\u001b[39m\n"
     ]
    },
    {
     "name": "stderr",
     "output_type": "stream",
     "text": [
      " \u001b[90m [dad2f222] \u001b[39m\u001b[92m+ LLVMExtra_jll v0.0.16+0\u001b[39m\n",
      " \u001b[90m [efe28fd5] \u001b[39m\u001b[92m+ OpenSpecFun_jll v0.5.5+0\u001b[39m\n",
      " \u001b[90m [0dad84c5] \u001b[39m\u001b[92m+ ArgTools\u001b[39m\n",
      " \u001b[90m [56f22d72] \u001b[39m\u001b[92m+ Artifacts\u001b[39m\n",
      " \u001b[90m [2a0f44e3] \u001b[39m\u001b[92m+ Base64\u001b[39m\n",
      " \u001b[90m [ade2ca70] \u001b[39m\u001b[92m+ Dates\u001b[39m\n",
      " \u001b[90m [8ba89e20] \u001b[39m\u001b[92m+ Distributed\u001b[39m\n",
      " \u001b[90m [f43a241f] \u001b[39m\u001b[92m+ Downloads\u001b[39m\n",
      " \u001b[90m [7b1f6079] \u001b[39m\u001b[92m+ FileWatching\u001b[39m\n",
      " \u001b[90m [9fa8497b] \u001b[39m\u001b[92m+ Future\u001b[39m\n",
      " \u001b[90m [b77e0a4c] \u001b[39m\u001b[92m+ InteractiveUtils\u001b[39m\n",
      " \u001b[90m [4af54fe1] \u001b[39m\u001b[92m+ LazyArtifacts\u001b[39m\n",
      " \u001b[90m [b27032c2] \u001b[39m\u001b[92m+ LibCURL\u001b[39m\n",
      " \u001b[90m [76f85450] \u001b[39m\u001b[92m+ LibGit2\u001b[39m\n",
      " \u001b[90m [8f399da3] \u001b[39m\u001b[92m+ Libdl\u001b[39m"
     ]
    },
    {
     "name": "stderr",
     "output_type": "stream",
     "text": [
      "\n",
      " \u001b[90m [37e2e46d] \u001b[39m\u001b[92m+ LinearAlgebra\u001b[39m\n",
      " \u001b[90m [56ddb016] \u001b[39m\u001b[92m+ Logging\u001b[39m\n",
      " \u001b[90m [d6f4376e] \u001b[39m\u001b[92m+ Markdown\u001b[39m\n",
      " \u001b[90m [a63ad114] \u001b[39m\u001b[92m+ Mmap\u001b[39m\n",
      " \u001b[90m [ca575930] \u001b[39m\u001b[92m+ NetworkOptions\u001b[39m\n",
      " \u001b[90m [44cfe95a] \u001b[39m\u001b[92m+ Pkg\u001b[39m\n",
      " \u001b[90m [de0858da] \u001b[39m\u001b[92m+ Printf\u001b[39m\n",
      " \u001b[90m [3fa0cd96] \u001b[39m\u001b[92m+ REPL\u001b[39m\n",
      " \u001b[90m [9a3f8284] \u001b[39m\u001b[92m+ Random\u001b[39m\n",
      " \u001b[90m [ea8e919c] \u001b[39m\u001b[92m+ SHA\u001b[39m\n",
      " \u001b[90m [9e88b42a] \u001b[39m\u001b[92m+ Serialization\u001b[39m\n",
      " \u001b[90m [6462fe0b] \u001b[39m\u001b[92m+ Sockets\u001b[39m\n",
      " \u001b[90m [2f01184e] \u001b[39m\u001b[92m+ SparseArrays\u001b[39m\n",
      " \u001b[90m [10745b16] \u001b[39m\u001b[92m+ Statistics\u001b[39m\n",
      " \u001b[90m [4607b0f0] \u001b[39m\u001b[92m+ SuiteSparse\u001b[39m\n",
      " \u001b[90m [fa267f1f] \u001b[39m\u001b[92m+ TOML\u001b[39m\n",
      " \u001b[90m [a4e569a6] \u001b[39m\u001b[92m+ Tar\u001b[39m\n",
      " \u001b[90m [8dfed614] \u001b[39m\u001b[92m+ Test\u001b[39m\n",
      " \u001b[90m [cf7118a7] \u001b[39m\u001b[92m+ UUIDs\u001b[39m\n",
      " \u001b[90m [4ec0a83e] \u001b[39m\u001b[92m+ Unicode\u001b[39m\n",
      " \u001b[90m [e66e0078] \u001b[39m\u001b[92m+ CompilerSupportLibraries_jll\u001b[39m\n",
      " \u001b[90m [deac9b47] \u001b[39m\u001b[92m+ LibCURL_jll\u001b[39m\n",
      " \u001b[90m [29816b5a] \u001b[39m\u001b[92m+ LibSSH2_jll\u001b[39m\n",
      " \u001b[90m [c8ffd9c3] \u001b[39m\u001b[92m+ MbedTLS_jll\u001b[39m\n",
      " \u001b[90m [14a3606d] \u001b[39m\u001b[92m+ MozillaCACerts_jll\u001b[39m\n",
      " \u001b[90m [4536629a] \u001b[39m\u001b[92m+ OpenBLAS_jll\u001b[39m\n",
      " \u001b[90m [05823500] \u001b[39m\u001b[92m+ OpenLibm_jll\u001b[39m\n",
      " \u001b[90m [83775a58] \u001b[39m\u001b[92m+ Zlib_jll\u001b[39m\n",
      " \u001b[90m [8e850b90] \u001b[39m\u001b[92m+ libblastrampoline_jll\u001b[39m"
     ]
    },
    {
     "name": "stderr",
     "output_type": "stream",
     "text": [
      "\n",
      " \u001b[90m [8e850ede] \u001b[39m\u001b[92m+ nghttp2_jll\u001b[39m\n",
      " \u001b[90m [3f19e933] \u001b[39m\u001b[92m+ p7zip_jll\u001b[39m\n"
     ]
    },
    {
     "name": "stderr",
     "output_type": "stream",
     "text": [
      "┌ Info: OMEinsum loaded the CUDA module successfully\n",
      "└ @ OMEinsum E:\\juliapkg\\packages\\OMEinsum\\vgB8s\\src\\cueinsum.jl:117\n"
     ]
    }
   ],
   "source": [
    "using Pkg\n",
    "Pkg.activate(\"../\")\n",
    "Pkg.instantiate()\n",
    "using TeneT\n",
    "using TeneT_demo"
   ]
  },
  {
   "cell_type": "markdown",
   "metadata": {},
   "source": [
    "# 2D classical Ising model\n",
    "The ''energy'' of a configuration $\\sigma$ is given by the Hamiltonian function:\n",
    "\n",
    "$H(\\sigma) = -\\sum_{\\langle i~j\\rangle} J \\sigma_i \\sigma_j$  ($J>0$)\n",
    "\n",
    "The Boltzmann factor is:\n",
    "\n",
    "$W_{i~j} = e^{-\\beta E_{i~j}}$\n",
    "\n",
    "We can solve this model by TeneT.jl in follow steps:"
   ]
  },
  {
   "cell_type": "markdown",
   "metadata": {},
   "source": [
    "## Step 1: define M tensor\n",
    " <img src=\"../picture/build_M_tensor.png\" width = \"30%\" height = \"30%\" align=center />"
   ]
  },
  {
   "cell_type": "code",
   "execution_count": 3,
   "metadata": {},
   "outputs": [
    {
     "name": "stdout",
     "output_type": "stream",
     "text": [
      "\u001b[0m\u001b[1mTest Summary:      | \u001b[22m\u001b[32m\u001b[1mPass  \u001b[22m\u001b[39m\u001b[36m\u001b[1mTotal\u001b[22m\u001b[39m\n",
      "Ising model_tensor | \u001b[32m   3  \u001b[39m\u001b[36m    3\u001b[39m\n",
      "\u001b[0m\u001b[1mTest Summary:      | \u001b[22m\u001b[32m\u001b[1mPass  \u001b[22m\u001b[39m\u001b[36m\u001b[1mTotal\u001b[22m\u001b[39m\n",
      "Ising model_tensor | \u001b[32m   3  \u001b[39m\u001b[36m    3\u001b[39m\n",
      "\u001b[0m\u001b[1mTest Summary:      | \u001b[22m\u001b[32m\u001b[1mPass  \u001b[22m\u001b[39m\u001b[36m\u001b[1mTotal\u001b[22m\u001b[39m\n",
      "Ising model_tensor | \u001b[32m   3  \u001b[39m\u001b[36m    3\u001b[39m\n",
      "\u001b[0m\u001b[1mTest Summary:      | \u001b[22m\u001b[32m\u001b[1mPass  \u001b[22m\u001b[39m\u001b[36m\u001b[1mTotal\u001b[22m\u001b[39m\n",
      "Ising model_tensor | \u001b[32m   3  \u001b[39m\u001b[36m    3\u001b[39m\n"
     ]
    },
    {
     "data": {
      "text/plain": [
       "4-element Vector{Any}:\n",
       " Test.DefaultTestSet(\"Ising model_tensor\", Any[], 3, false, false)\n",
       " Test.DefaultTestSet(\"Ising model_tensor\", Any[], 3, false, false)\n",
       " Test.DefaultTestSet(\"Ising model_tensor\", Any[], 3, false, false)\n",
       " Test.DefaultTestSet(\"Ising model_tensor\", Any[], 3, false, false)"
      ]
     },
     "metadata": {},
     "output_type": "display_data"
    }
   ],
   "source": [
    "using Test\n",
    "\n",
    "@testset \"Ising model_tensor\" for Ni in [1,2], Nj in [1,2]\n",
    "    model = Ising(Ni,Nj,0.5)\n",
    "    @test size(model_tensor(model, Val(:bulk)))   == (2,2,2,2,Ni,Nj)\n",
    "    @test size(model_tensor(model, Val(:mag) ))   == (2,2,2,2,Ni,Nj)\n",
    "    @test size(model_tensor(model, Val(:energy))) == (2,2,2,2,Ni,Nj)\n",
    "end"
   ]
  },
  {
   "cell_type": "markdown",
   "metadata": {},
   "source": [
    "## Step 2: use TeneT.obs_env to get environment"
   ]
  },
  {
   "cell_type": "code",
   "execution_count": 4,
   "metadata": {},
   "outputs": [
    {
     "name": "stdout",
     "output_type": "stream",
     "text": [
      "↑ random initial 1×1 vumps_χ10 environment-> "
     ]
    },
    {
     "name": "stdout",
     "output_type": "stream",
     "text": [
      "vumps@step: 1, error=Inf"
     ]
    },
    {
     "name": "stdout",
     "output_type": "stream",
     "text": [
      "\n",
      "vumps@step: 2, error=0.01730159744333545\n",
      "vumps@step: 3, error=0.0006110217932778949\n",
      "vumps@step: 4, error=8.525419213658111e-7\n",
      "vumps@step: 5, error=1.486693561895049e-7\n",
      "vumps@step: 6, error=3.5210780596961775e-8\n",
      "vumps@step: 7, error=7.535505333349743e-9\n",
      "vumps@step: 8, error=1.640536608963289e-9\n"
     ]
    },
    {
     "name": "stdout",
     "output_type": "stream",
     "text": [
      "vumps@step: 9, error=3.7020363904278236e-10\n",
      "vumps done@step: 9, error=8.508814802635002e-11\n"
     ]
    }
   ],
   "source": [
    "using Random\n",
    "Random.seed!(100)\n",
    "\n",
    "β = 0.5\n",
    "model = Ising(1, 1, β)\n",
    "M = model_tensor(model, Val(:bulk))\n",
    "env = TeneT.obs_env(M; χ=10, maxiter=10, miniter=1, \n",
    "                    updown=false, verbose=true, show_every=1);"
   ]
  },
  {
   "cell_type": "markdown",
   "metadata": {},
   "source": [
    "## Step 3: use env to calculate observable"
   ]
  },
  {
   "cell_type": "code",
   "execution_count": 6,
   "metadata": {},
   "outputs": [
    {
     "name": "stdout",
     "output_type": "stream",
     "text": [
      "\u001b[0m\u001b[1mTest Summary:                | \u001b[22m\u001b[32m\u001b[1mPass  \u001b[22m\u001b[39m\u001b[36m\u001b[1mTotal\u001b[22m\u001b[39m\n",
      "1x1 ising forward with Array | \u001b[32m   3  \u001b[39m\u001b[36m    3\u001b[39m\n"
     ]
    },
    {
     "data": {
      "text/plain": [
       "1-element Vector{Any}:\n",
       " Test.DefaultTestSet(\"1x1 ising forward with Array\", Any[], 3, false, false)"
      ]
     },
     "metadata": {},
     "output_type": "display_data"
    }
   ],
   "source": [
    "using TeneT_demo: magofβ\n",
    "\n",
    "@testset \"$(Ni)x$(Nj) ising forward with $atype\" for Ni = [1], Nj = [1], atype = [Array]\n",
    "    Random.seed!(100)\n",
    "    β = 0.5\n",
    "    model = Ising(Ni, Nj, β)\n",
    "    M = atype(model_tensor(model, Val(:bulk)))\n",
    "    env = obs_env(M; χ = 10, maxiter = 10, miniter = 1, \n",
    "         infolder = \"./example/data/$model/\", \n",
    "        outfolder = \"./example/data/$model/\", \n",
    "        updown = false, verbose = false, savefile = false\n",
    "        )\n",
    "    @test observable(env, model, Val(:Z)     ) ≈ 2.789305993957602\n",
    "    @test observable(env, model, Val(:mag)   ) ≈ magofβ(model) \n",
    "    @test observable(env, model, Val(:energy)) ≈ -1.745564581767667\n",
    "end"
   ]
  },
  {
   "cell_type": "markdown",
   "metadata": {},
   "source": [
    "## Step 4(optional): calculate energy by Zygote.gradient"
   ]
  },
  {
   "cell_type": "code",
   "execution_count": 8,
   "metadata": {},
   "outputs": [
    {
     "name": "stdout",
     "output_type": "stream",
     "text": [
      "\u001b[0m\u001b[1mTest Summary:                 | \u001b[22m\u001b[32m\u001b[1mPass  \u001b[22m\u001b[39m\u001b[36m\u001b[1mTotal\u001b[22m\u001b[39m\n",
      "1x1 ising backward with Array | \u001b[32m   1  \u001b[39m\u001b[36m    1\u001b[39m\n"
     ]
    },
    {
     "data": {
      "text/plain": [
       "1-element Vector{Any}:\n",
       " Test.DefaultTestSet(\"1x1 ising backward with Array\", Any[], 1, false, false)"
      ]
     },
     "metadata": {},
     "output_type": "display_data"
    }
   ],
   "source": [
    "using Zygote\n",
    "\n",
    "@testset \"$(Ni)x$(Nj) ising backward with $atype\" for Ni = [1], Nj = [1], atype = [Array]\n",
    "    Random.seed!(100)\n",
    "    function logZ(β)\n",
    "        model = Ising(1, 1, β)\n",
    "        M = model_tensor(model, Val(:bulk))\n",
    "        env = obs_env(M;χ = 10, maxiter = 10, miniter = 1, \n",
    "                        updown = false, verbose = false, savefile = false\n",
    "                    )\n",
    "        log(real(observable(env, model, Val(:Z))))\n",
    "    end\n",
    "    @test Zygote.gradient(β->-logZ(β), 0.5)[1] ≈ -1.745564581767667\n",
    "end"
   ]
  },
  {
   "cell_type": "markdown",
   "metadata": {},
   "source": [
    "<font size=5>*try different Temperature $\\beta$, bond dimension $\\chi$, unit cell size $Ni \\times Nj$ and CuArray with GPU!*</font>"
   ]
  },
  {
   "cell_type": "markdown",
   "metadata": {},
   "source": [
    "# Finding the Ground State of infinite 2D Heisenberg model\n",
    "The Heisenberg Hamiltonian function is:\n",
    "\n",
    "$H = \\sum_{\\langle i~j\\rangle} J^x S_i^x S_j^x + J^y S_i^y S_j^y + J^z S_i^z S_j^z $\n",
    "\n",
    "\n"
   ]
  },
  {
   "cell_type": "code",
   "execution_count": 14,
   "metadata": {},
   "outputs": [
    {
     "name": "stdout",
     "output_type": "stream",
     "text": [
      "\u001b[0m\u001b[1mTest Summary: | \u001b[22m\u001b[32m\u001b[1mPass  \u001b[22m\u001b[39m\u001b[36m\u001b[1mTotal\u001b[22m\u001b[39m\n",
      "hamiltonian   | \u001b[32m   2  \u001b[39m\u001b[36m    2\u001b[39m\n"
     ]
    },
    {
     "data": {
      "text/plain": [
       "Test.DefaultTestSet(\"hamiltonian\", Any[], 2, false, false)"
      ]
     },
     "metadata": {},
     "output_type": "display_data"
    }
   ],
   "source": [
    "@testset \"hamiltonian\" begin\n",
    "    h = hamiltonian(Heisenberg(1,1))\n",
    "    @test size(h) == (2,2,2,2)\n",
    "    rh = reshape(permutedims(h,(1,3,2,4)),4,4)\n",
    "    @test rh' == rh\n",
    "end"
   ]
  },
  {
   "cell_type": "markdown",
   "metadata": {},
   "source": [
    "The algorithm variationally minimizes the energy of a Heisenberg model on a two-dimensional infinite lattice using a form of gradient descent."
   ]
  },
  {
   "cell_type": "markdown",
   "metadata": {},
   "source": [
    "## Step 1: initial iPEPS tensor"
   ]
  },
  {
   "cell_type": "code",
   "execution_count": 6,
   "metadata": {},
   "outputs": [
    {
     "name": "stdout",
     "output_type": "stream",
     "text": [
      "random initial BCiPEPS ./data/1x1/Heisenberg{Float64}(1, 1, 1.0, 1.0, 1.0)\\D2_χ10_tol1.0e-10_maxiter10.jld2\n",
      "\u001b[0m\u001b[1mTest Summary: | \u001b[22m\u001b[32m\u001b[1mPass  \u001b[22m\u001b[39m\u001b[36m\u001b[1mTotal\u001b[22m\u001b[39m\n",
      "init_ipeps    | \u001b[32m   1  \u001b[39m\u001b[36m    1\u001b[39m\n",
      "random initial BCiPEPS ./data/1x1/Heisenberg{Float64}(1, 1, 1.0, 1.0, 1.0)\\D3_χ10_tol1.0e-10_maxiter10.jld2\n",
      "\u001b[0m\u001b[1mTest Summary: | \u001b[22m\u001b[32m\u001b[1mPass  \u001b[22m\u001b[39m\u001b[36m\u001b[1mTotal\u001b[22m\u001b[39m\n",
      "init_ipeps    | \u001b[32m   1  \u001b[39m\u001b[36m    1\u001b[39m\n",
      "random initial BCiPEPS ./data/1x2/Heisenberg{Float64}(1, 2, 1.0, 1.0, 1.0)\\D2_χ10_tol1.0e-10_maxiter10.jld2\n",
      "\u001b[0m\u001b[1mTest Summary: | \u001b[22m\u001b[32m\u001b[1mPass  \u001b[22m\u001b[39m\u001b[36m\u001b[1mTotal\u001b[22m\u001b[39m\n",
      "init_ipeps    | \u001b[32m   1  \u001b[39m\u001b[36m    1\u001b[39m\n",
      "random initial BCiPEPS ./data/1x2/Heisenberg{Float64}(1, 2, 1.0, 1.0, 1.0)\\D3_χ10_tol1.0e-10_maxiter10.jld2\n",
      "\u001b[0m\u001b[1mTest Summary: | \u001b[22m\u001b[32m\u001b[1mPass  \u001b[22m\u001b[39m\u001b[36m\u001b[1mTotal\u001b[22m\u001b[39m\n",
      "init_ipeps    | \u001b[32m   1  \u001b[39m\u001b[36m    1\u001b[39m\n",
      "random initial BCiPEPS ./data/2x1/Heisenberg{Float64}(2, 1, 1.0, 1.0, 1.0)\\D2_χ10_tol1.0e-10_maxiter10.jld2\n",
      "\u001b[0m\u001b[1mTest Summary: | \u001b[22m\u001b[32m\u001b[1mPass  \u001b[22m\u001b[39m\u001b[36m\u001b[1mTotal\u001b[22m\u001b[39m\n",
      "init_ipeps    | \u001b[32m   1  \u001b[39m\u001b[36m    1\u001b[39m\n",
      "random initial BCiPEPS ./data/2x1/Heisenberg{Float64}(2, 1, 1.0, 1.0, 1.0)\\D3_χ10_tol1.0e-10_maxiter10.jld2\n",
      "\u001b[0m\u001b[1mTest Summary: | \u001b[22m\u001b[32m\u001b[1mPass  \u001b[22m\u001b[39m\u001b[36m\u001b[1mTotal\u001b[22m\u001b[39m\n",
      "init_ipeps    | \u001b[32m   1  \u001b[39m\u001b[36m    1\u001b[39m\n",
      "random initial BCiPEPS ./data/2x2/Heisenberg{Float64}(2, 2, 1.0, 1.0, 1.0)\\D2_χ10_tol1.0e-10_maxiter10.jld2\n",
      "\u001b[0m\u001b[1mTest Summary: | \u001b[22m\u001b[32m\u001b[1mPass  \u001b[22m\u001b[39m\u001b[36m\u001b[1mTotal\u001b[22m\u001b[39m\n",
      "init_ipeps    | "
     ]
    },
    {
     "name": "stdout",
     "output_type": "stream",
     "text": [
      "\u001b[32m   1  \u001b[39m\u001b[36m    1\u001b[39m\n",
      "random initial BCiPEPS ./data/2x2/Heisenberg{Float64}(2, 2, 1.0, 1.0, 1.0)\\D3_χ10_tol1.0e-10_maxiter10.jld2\n",
      "\u001b[0m\u001b[1mTest Summary: | \u001b[22m\u001b[32m\u001b[1mPass  \u001b[22m\u001b[39m\u001b[36m\u001b[1mTotal\u001b[22m\u001b[39m\n",
      "init_ipeps    | \u001b[32m   1  \u001b[39m\u001b[36m    1\u001b[39m\n"
     ]
    },
    {
     "data": {
      "text/plain": [
       "8-element Vector{Any}:\n",
       " Test.DefaultTestSet(\"init_ipeps\", Any[], 1, false, false)\n",
       " Test.DefaultTestSet(\"init_ipeps\", Any[], 1, false, false)\n",
       " Test.DefaultTestSet(\"init_ipeps\", Any[], 1, false, false)\n",
       " Test.DefaultTestSet(\"init_ipeps\", Any[], 1, false, false)\n",
       " Test.DefaultTestSet(\"init_ipeps\", Any[], 1, false, false)\n",
       " Test.DefaultTestSet(\"init_ipeps\", Any[], 1, false, false)\n",
       " Test.DefaultTestSet(\"init_ipeps\", Any[], 1, false, false)\n",
       " Test.DefaultTestSet(\"init_ipeps\", Any[], 1, false, false)"
      ]
     },
     "metadata": {},
     "output_type": "display_data"
    }
   ],
   "source": [
    "@testset \"init_ipeps\" for Ni = [1,2], Nj = [1,2], D in [2,3], χ in [10]\n",
    "    model = Heisenberg(Ni,Nj)\n",
    "    A, key = init_ipeps(model; Ni=Ni, Nj=Nj, D=D, χ=χ);\n",
    "    @test size(A) == (D,D,D,D,2,Ni,Nj)\n",
    "end"
   ]
  },
  {
   "cell_type": "markdown",
   "metadata": {},
   "source": [
    "## Step 2: contract the tensor network to get the energy"
   ]
  },
  {
   "cell_type": "markdown",
   "metadata": {},
   "source": [
    "We don't have constraints on ipeps, so the horizontal and vertical bond energy is different and we should use both the up and down environment."
   ]
  },
  {
   "cell_type": "code",
   "execution_count": 11,
   "metadata": {},
   "outputs": [
    {
     "name": "stdout",
     "output_type": "stream",
     "text": [
      "random initial BCiPEPS ./data/1x1/Heisenberg{Float64}(1, 1, 1.0, 1.0, 1.0)\\D2_χ10_tol1.0e-10_maxiter10.jld2\n",
      "Horizontal Contraction Complexity(seed=60)(18.501837184902293, 12.643856189774723)\n",
      "Vertical Contraction Complexity(seed=60)(18.501837184902293, 12.643856189774723)\n",
      "↑ "
     ]
    },
    {
     "name": "stdout",
     "output_type": "stream",
     "text": [
      "vumps 1×1 environment load from ./data/1x1/Heisenberg{Float64}(1, 1, 1.0, 1.0, 1.0)\\up_D4_χ10.jld2 -> vumps done@step: 1, error=9.680166995539702e-12\n",
      "←→ observable environment load from ./data/1x1/Heisenberg{Float64}(1, 1, 1.0, 1.0, 1.0)\\obs_D4_χ10.jld2\n"
     ]
    },
    {
     "name": "stdout",
     "output_type": "stream",
     "text": [
      "↓ vumps 1×1 environment load from ./data/1x1/Heisenberg{Float64}(1, 1, 1.0, 1.0, 1.0)\\down_D4_χ10.jld2 -> vumps done@step: 1, error=1.4380085393498025e-11\n",
      "===========1,1===========\n",
      "Horizontal energy = 0.24991787873537294 - 8.698045466742041e-15im\n",
      "Vertical energy = 0.2499441377150105 + 1.4200702929427347e-12im\n",
      "e = 0.4998620164503834 + 1.4113722474759926e-12im\n",
      "energy(h, A, oc, key; verbose = true, savefile = true) = 0.4998620164503834 + 1.4113722474759926e-12im\n",
      "\u001b[0m\u001b[1mTest Summary: |\u001b[22m\n",
      "energy        | \u001b[36mNo tests\u001b[39m\n",
      "random initial BCiPEPS ./data/1x1/Heisenberg{Float64}(1, 1, 1.0, 1.0, 1.0)\\D3_χ10_tol1.0e-10_maxiter10.jld2\n",
      "Horizontal Contraction Complexity(seed=60)(22.5340254495046, 14.983706192659348)\n",
      "Vertical Contraction Complexity(seed=60)"
     ]
    },
    {
     "name": "stdout",
     "output_type": "stream",
     "text": [
      "(22.5340254495046, 14.983706192659348)\n",
      "↑ "
     ]
    },
    {
     "name": "stdout",
     "output_type": "stream",
     "text": [
      "vumps 1×1 environment load from ./data/1x1/Heisenberg{Float64}(1, 1, 1.0, 1.0, 1.0)\\up_D9_χ10.jld2 -> vumps done@step: 10, error=6.204419914720449e-7\n",
      "←→ observable environment load from ./data/1x1/Heisenberg{Float64}(1, 1, 1.0, 1.0, 1.0)\\obs_D9_χ10.jld2\n",
      "↓ vumps 1×1 environment load from ./data/1x1/Heisenberg{Float64}(1, 1, 1.0, 1.0, 1.0)\\down_D9_χ10.jld2 -> "
     ]
    },
    {
     "name": "stdout",
     "output_type": "stream",
     "text": [
      "vumps done@step: 10, error=6.706873852398704e-9\n",
      "===========1,1===========\n",
      "Horizontal energy = 0.24996753113950954 + 8.258793346112662e-13im\n",
      "Vertical energy = 0.24994307688102824 - 1.4255559620188749e-9im\n",
      "e = 0.49991060802053777 - 1.4247300826842636e-9im\n",
      "energy(h, A, oc, key; verbose = true, savefile = true) = 0.49991060802053777 - 1.4247300826842636e-9im\n",
      "\u001b[0m\u001b[1mTest Summary: |\u001b[22m\n",
      "energy        | \u001b[36mNo tests\u001b[39m\n"
     ]
    },
    {
     "data": {
      "text/plain": [
       "2-element Vector{Any}:\n",
       " Test.DefaultTestSet(\"energy\", Any[], 0, false, false)\n",
       " Test.DefaultTestSet(\"energy\", Any[], 0, false, false)"
      ]
     },
     "metadata": {},
     "output_type": "display_data"
    }
   ],
   "source": [
    "using TeneT_demo: optcont, energy\n",
    "\n",
    "@testset \"energy\" for Ni = [1], Nj = [1], D in [2,3], χ in [10]\n",
    "    model = Heisenberg(Ni,Nj)\n",
    "    A, key = init_ipeps(model; Ni=Ni, Nj=Nj, D=D, χ=χ)\n",
    "    oc = optcont(D, χ)\n",
    "    h = hamiltonian(model)\n",
    "    @show energy(h, A, oc, key; verbose = true, savefile = true)\n",
    "end"
   ]
  },
  {
   "cell_type": "markdown",
   "metadata": {},
   "source": [
    "## Step 3: optimise the ipeps by gradient"
   ]
  },
  {
   "cell_type": "markdown",
   "metadata": {},
   "source": [
    "The ground state of Heisenberg model is antiferromagnetic, which means we should use $2 \\times 2$ unit cell to simulate it directly.\n",
    "\n",
    " <img src=\"../picture/antiferromagnetic_configuration.png\" width = \"30%\" height = \"30%\" align=center />"
   ]
  },
  {
   "cell_type": "code",
   "execution_count": 13,
   "metadata": {},
   "outputs": [
    {
     "name": "stdout",
     "output_type": "stream",
     "text": [
      "Horizontal Contraction Complexity(seed=60)(18.501837184902293, 12.643856189774723)\n",
      "Vertical Contraction Complexity(seed=60)(18.501837184902293, 12.643856189774723)\n",
      "\u001b[31m\u001b[1mtime  steps   energy           grad_norm\u001b[22m\u001b[39m\n"
     ]
    },
    {
     "name": "stdout",
     "output_type": "stream",
     "text": [
      "\u001b[31m\u001b[1m0.0   0       0.4497262425    0.1304296944\u001b[22m\u001b[39m\n"
     ]
    },
    {
     "name": "stdout",
     "output_type": "stream",
     "text": [
      "\u001b[31m\u001b[1m4.0   1       -0.456339363    0.1447771017\u001b[22m\u001b[39m\n"
     ]
    },
    {
     "name": "stdout",
     "output_type": "stream",
     "text": [
      "\u001b[31m\u001b[1m7.7   2       -0.4957160602    0.1154829916\u001b[22m\u001b[39m\n"
     ]
    },
    {
     "name": "stdout",
     "output_type": "stream",
     "text": [
      "\u001b[31m\u001b[1m10.3   3       -0.5288425844    0.0542520603\u001b[22m\u001b[39m\n"
     ]
    },
    {
     "name": "stdout",
     "output_type": "stream",
     "text": [
      "\u001b[31m\u001b[1m29.4   4       -0.5782739041    0.1313472721\u001b[22m\u001b[39m\n"
     ]
    },
    {
     "name": "stdout",
     "output_type": "stream",
     "text": [
      "\u001b[31m\u001b[1m37.1   5       -0.5921715912    0.1236647747\u001b[22m\u001b[39m\n"
     ]
    },
    {
     "name": "stdout",
     "output_type": "stream",
     "text": [
      "\u001b[31m\u001b[1m47.4   6       -0.6190859349    0.0871452675\u001b[22m\u001b[39m\n"
     ]
    },
    {
     "name": "stdout",
     "output_type": "stream",
     "text": [
      "\u001b[31m\u001b[1m51.4   7       -0.638826843    0.0373215939\u001b[22m\u001b[39m\n"
     ]
    },
    {
     "name": "stdout",
     "output_type": "stream",
     "text": [
      "\u001b[31m\u001b[1m61.8   8       -0.6472531059    0.0287116345\u001b[22m\u001b[39m\n"
     ]
    },
    {
     "name": "stdout",
     "output_type": "stream",
     "text": [
      "\u001b[31m\u001b[1m76.4   9       -0.6531850204    0.0195096561\u001b[22m\u001b[39m\n"
     ]
    },
    {
     "name": "stdout",
     "output_type": "stream",
     "text": [
      "\u001b[31m\u001b[1m82.4   10       -0.6557469587    0.0103425538\u001b[22m\u001b[39m\n"
     ]
    },
    {
     "name": "stdout",
     "output_type": "stream",
     "text": [
      "\u001b[0m\u001b[1mTest Summary:  |\u001b[22m\n",
      "optimise_ipeps | \u001b[36mNo tests\u001b[39m\n"
     ]
    },
    {
     "data": {
      "text/plain": [
       "1-element Vector{Any}:\n",
       " Test.DefaultTestSet(\"optimise_ipeps\", Any[], 0, false, false)"
      ]
     },
     "metadata": {},
     "output_type": "display_data"
    }
   ],
   "source": [
    "using Optim\n",
    "\n",
    "@testset \"optimise_ipeps\" for Ni = [2], Nj = [2], D in [2], χ in [10]\n",
    "    model = Heisenberg(Ni,Nj,1.0,1.0,1.0)\n",
    "    A, key = init_ipeps(model; Ni=Ni, Nj=Nj, D=D, χ=χ, verbose= false)\n",
    "    optimise_ipeps(A, key; f_tol = 1e-6, opiter = 10, optimmethod = LBFGS(m = 20))\n",
    "end"
   ]
  },
  {
   "cell_type": "markdown",
   "metadata": {},
   "source": [
    "<font size=5>*The configuration is ABBA, so we can simplify the ipeps by only using A and B two tensors. Try to verify it!*</font>"
   ]
  },
  {
   "cell_type": "markdown",
   "metadata": {},
   "source": [
    "<font size=5>*If we only want ground state, the follow $1 \\times 1$ unit cell is also correct. Think about why.*</font>"
   ]
  },
  {
   "cell_type": "markdown",
   "metadata": {},
   "source": [
    " Hint: Flip the second spin."
   ]
  },
  {
   "cell_type": "code",
   "execution_count": 14,
   "metadata": {},
   "outputs": [
    {
     "name": "stdout",
     "output_type": "stream",
     "text": [
      "Horizontal Contraction Complexity(seed=60)(18.501837184902293, 12.643856189774723)\n",
      "Vertical Contraction Complexity(seed=60)(18.501837184902293, 12.643856189774723)\n",
      "\u001b[31m\u001b[1mtime  steps   energy           grad_norm\u001b[22m\u001b[39m\n"
     ]
    },
    {
     "name": "stdout",
     "output_type": "stream",
     "text": [
      "\u001b[31m\u001b[1m0.0   0       -0.4263991379    0.2737298683\u001b[22m\u001b[39m\n"
     ]
    },
    {
     "name": "stdout",
     "output_type": "stream",
     "text": [
      "\u001b[31m\u001b[1m2.3   1       -0.4600862164    0.2475836881\u001b[22m\u001b[39m\n"
     ]
    },
    {
     "name": "stdout",
     "output_type": "stream",
     "text": [
      "\u001b[31m\u001b[1m4.0   2       -0.5097300104    0.0703197008\u001b[22m\u001b[39m\n"
     ]
    },
    {
     "name": "stdout",
     "output_type": "stream",
     "text": [
      "\u001b[31m\u001b[1m6.7   3       -0.5310755475    0.2559850562\u001b[22m\u001b[39m\n"
     ]
    },
    {
     "name": "stdout",
     "output_type": "stream",
     "text": [
      "\u001b[31m\u001b[1m12.3   4       -0.5642197651    0.1839739683\u001b[22m\u001b[39m\n"
     ]
    },
    {
     "name": "stdout",
     "output_type": "stream",
     "text": [
      "\u001b[31m\u001b[1m15.9   5       -0.5945417453    0.2186637439\u001b[22m\u001b[39m\n"
     ]
    },
    {
     "name": "stdout",
     "output_type": "stream",
     "text": [
      "\u001b[31m\u001b[1m18.6   6       -0.6101134968    0.1065048687\u001b[22m\u001b[39m\n"
     ]
    },
    {
     "name": "stdout",
     "output_type": "stream",
     "text": [
      "\u001b[31m\u001b[1m24.5   7       -0.6495478096    0.0508729128\u001b[22m\u001b[39m\n"
     ]
    },
    {
     "name": "stdout",
     "output_type": "stream",
     "text": [
      "\u001b[31m\u001b[1m26.7   8       -0.6557402791    0.0467743582\u001b[22m\u001b[39m\n"
     ]
    },
    {
     "name": "stdout",
     "output_type": "stream",
     "text": [
      "\u001b[31m\u001b[1m29.1   9       -0.6583718195    0.0184073917\u001b[22m\u001b[39m\n"
     ]
    },
    {
     "name": "stdout",
     "output_type": "stream",
     "text": [
      "\u001b[31m\u001b[1m30.8   10       -0.659048637    0.011347839\u001b[22m\u001b[39m\n"
     ]
    },
    {
     "name": "stdout",
     "output_type": "stream",
     "text": [
      "\u001b[0m\u001b[1mTest Summary:  |\u001b[22m\n",
      "optimise_ipeps | \u001b[36mNo tests\u001b[39m\n"
     ]
    },
    {
     "data": {
      "text/plain": [
       "1-element Vector{Any}:\n",
       " Test.DefaultTestSet(\"optimise_ipeps\", Any[], 0, false, false)"
      ]
     },
     "metadata": {},
     "output_type": "display_data"
    }
   ],
   "source": [
    "@testset \"optimise_ipeps\" for Ni = [1], Nj = [1], D in [2], χ in [10]\n",
    "    model = Heisenberg(Ni,Nj,-1.0,-1.0,1.0)\n",
    "    A, key = init_ipeps(model; Ni=Ni, Nj=Nj, D=D, χ=χ, verbose= false)\n",
    "    optimise_ipeps(A, key; f_tol = 1e-6, opiter = 10, optimmethod = LBFGS(m = 20))\n",
    "end"
   ]
  }
 ],
 "metadata": {
  "kernelspec": {
   "display_name": "Julia 1.7.3",
   "language": "julia",
   "name": "julia-1.7"
  },
  "language_info": {
   "file_extension": ".jl",
   "mimetype": "application/julia",
   "name": "julia",
   "version": "1.7.3"
  },
  "orig_nbformat": 4
 },
 "nbformat": 4,
 "nbformat_minor": 2
}
