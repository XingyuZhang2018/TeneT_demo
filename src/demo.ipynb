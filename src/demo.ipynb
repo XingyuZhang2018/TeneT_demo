{
 "cells": [
  {
   "cell_type": "code",
   "execution_count": 41,
   "metadata": {},
   "outputs": [],
   "source": [
    "using Pkg\n",
    "Pkg.instantiate()\n",
    "using TeneT"
   ]
  },
  {
   "cell_type": "markdown",
   "metadata": {},
   "source": [
    "# 2D classical Ising model"
   ]
  },
  {
   "cell_type": "markdown",
   "metadata": {},
   "source": [
    "## Step 1: define M tensor\n",
    " <img src=\"../picture/build_M_tensor.png\" width = \"30%\" height = \"30%\" align=center />"
   ]
  },
  {
   "cell_type": "code",
   "execution_count": 53,
   "metadata": {},
   "outputs": [
    {
     "data": {
      "text/plain": [
       "model_tensor (generic function with 3 methods)"
      ]
     },
     "metadata": {},
     "output_type": "display_data"
    }
   ],
   "source": [
    "using TeneT: _arraytype\n",
    "using OMEinsum\n",
    "using Zygote\n",
    "\n",
    "const isingβc = log(1+sqrt(2))/2\n",
    "\n",
    "abstract type HamiltonianModel end\n",
    "\n",
    "struct Ising <: HamiltonianModel \n",
    "    Ni::Int\n",
    "    Nj::Int\n",
    "    β::Float64\n",
    "end\n",
    "\n",
    "\"\"\"\n",
    "    model_tensor(model::Ising, type)\n",
    "return the  `MT <: HamiltonianModel` `type` tensor at inverse temperature `β` for  two-dimensional\n",
    "square lattice tensor-network.\n",
    "\"\"\"\n",
    "function model_tensor(model::Ising, ::Val{:bulk})\n",
    "    Ni, Nj, β = model.Ni, model.Nj, model.β\n",
    "    ham = Zygote.@ignore ComplexF64[-1. 1;1 -1]\n",
    "    w = exp.(- β * ham)\n",
    "    wsq = sqrt(w)\n",
    "    m = ein\"ia,ib,ic,id -> abcd\"(wsq, wsq, wsq, wsq)\n",
    "\n",
    "    M = Zygote.Buffer(m, 2,2,2,2,Ni,Nj)\n",
    "    @inbounds @views for j = 1:Nj,i = 1:Ni\n",
    "        M[:,:,:,:,i,j] = m\n",
    "    end\n",
    "    return copy(M)\n",
    "end\n",
    "\n",
    "function model_tensor(model::Ising, ::Val{:mag})\n",
    "    Ni, Nj, β = model.Ni, model.Nj, model.β\n",
    "    a = reshape(ComplexF64[1 0 0 0; 0 0 0 0; 0 0 0 0; 0 0 0 -1], 2,2,2,2)\n",
    "    cβ, sβ = sqrt(cosh(β)), sqrt(sinh(β))\n",
    "    q = 1/sqrt(2) * [cβ+sβ cβ-sβ; cβ-sβ cβ+sβ]\n",
    "    m = ein\"abcd,ai,bj,ck,dl -> ijkl\"(a,q,q,q,q)\n",
    "    M = Zygote.Buffer(m, 2,2,2,2,Ni,Nj)\n",
    "    @inbounds @views for j = 1:Nj,i = 1:Ni\n",
    "        M[:,:,:,:,i,j] = m\n",
    "    end\n",
    "    return copy(M)\n",
    "end\n",
    "\n",
    "function model_tensor(model::Ising, ::Val{:energy})\n",
    "    Ni, Nj, β = model.Ni, model.Nj, model.β\n",
    "    ham = ComplexF64[-1 1;1 -1]\n",
    "    w = exp.(-β .* ham)\n",
    "    we = ham .* w\n",
    "    wsq = sqrt(w)\n",
    "    wsqi = wsq^(-1)\n",
    "    e = (ein\"ai,im,bm,cm,dm -> abcd\"(wsqi,we,wsq,wsq,wsq) + ein\"am,bi,im,cm,dm -> abcd\"(wsq,wsqi,we,wsq,wsq) + \n",
    "        ein\"am,bm,ci,im,dm -> abcd\"(wsq,wsq,wsqi,we,wsq) + ein\"am,bm,cm,di,im -> abcd\"(wsq,wsq,wsq,wsqi,we)) / 2\n",
    "    M = Zygote.Buffer(e, 2,2,2,2,Ni,Nj)\n",
    "    @inbounds @views for j = 1:Nj,i = 1:Ni\n",
    "        M[:,:,:,:,i,j] = e\n",
    "    end\n",
    "    return copy(M)\n",
    "end"
   ]
  },
  {
   "cell_type": "markdown",
   "metadata": {},
   "source": [
    "## Step 2: use TeneT.obs_env to get environment"
   ]
  },
  {
   "cell_type": "code",
   "execution_count": 54,
   "metadata": {},
   "outputs": [
    {
     "name": "stdout",
     "output_type": "stream",
     "text": [
      "↑ random initial 1×1 vumps_χ10 environment-> vumps@step: 1, error=Inf"
     ]
    },
    {
     "name": "stdout",
     "output_type": "stream",
     "text": [
      "\n",
      "vumps@step: 2, error=0.01730159744333545\n",
      "vumps@step: 3, error=0.0006110217932778949\n",
      "vumps@step: 4, error=8.525419213658111e-7\n",
      "vumps@step: 5, error=1.486693561895049e-7"
     ]
    },
    {
     "name": "stdout",
     "output_type": "stream",
     "text": [
      "\n",
      "vumps@step: 6, error=3.5210780596961775e-8\n",
      "vumps@step: 7, error=7.535505333349743e-9\n",
      "vumps@step: 8, error=1.640536608963289e-9\n",
      "vumps@step: 9, error=3.7020363904278236e-10\n",
      "vumps done@step: 9, error=8.508814802635002e-11\n"
     ]
    }
   ],
   "source": [
    "using Random\n",
    "Random.seed!(100)\n",
    "\n",
    "β = 0.5\n",
    "model = Ising(1, 1, β)\n",
    "M = model_tensor(model, Val(:bulk))\n",
    "env = TeneT.obs_env(M; χ=10, maxiter=10, miniter=1, \n",
    "                    updown=false, verbose=true, show_every=1);"
   ]
  },
  {
   "cell_type": "markdown",
   "metadata": {},
   "source": [
    "## Step 3: use env to calculate observable"
   ]
  },
  {
   "cell_type": "code",
   "execution_count": 51,
   "metadata": {},
   "outputs": [
    {
     "data": {
      "text/plain": [
       "magofβ"
      ]
     },
     "metadata": {},
     "output_type": "display_data"
    }
   ],
   "source": [
    "using TeneT: ALCtoAC\n",
    "\"\"\"\n",
    "    observable(env, model::MT, type)\n",
    "return the `type` observable of the `model`. Requires that `type` tensor defined in model_tensor(model, Val(:type)).\n",
    "\"\"\"\n",
    "function observable(env, model::MT, ::Val{:Z}) where {MT <: HamiltonianModel}\n",
    "    _, ALu, Cu, ARu, ALd, Cd, ARd, FL, FR, FLu, FRu = env\n",
    "    atype = _arraytype(ALu)\n",
    "    M   = atype(model_tensor(model, Val(:bulk)))\n",
    "    χ,D,Ni,Nj = size(ALu)[[1,2,4,5]]\n",
    "    \n",
    "    z_tol = 1\n",
    "    ACu = ALCtoAC(ALu, Cu)\n",
    "\n",
    "    for j = 1:Nj,i = 1:Ni\n",
    "        ir = i + 1 - Ni * (i==Ni)\n",
    "        jr = j + 1 - Nj * (j==Nj)\n",
    "        z = ein\"(((adf,abc),dgeb),ceh),fgh ->\"(FLu[:,:,:,i,j],ACu[:,:,:,i,j],M[:,:,:,:,i,j],FRu[:,:,:,i,j],conj(ACu[:,:,:,ir,j]))\n",
    "        λ = ein\"(acd,ab),(bce,de) ->\"(FLu[:,:,:,i,jr],Cu[:,:,i,j],FRu[:,:,:,i,j],conj(Cu[:,:,ir,j]))\n",
    "        z_tol *= Array(z)[]/Array(λ)[]\n",
    "    end\n",
    "    return z_tol^(1/Ni/Nj)\n",
    "end\n",
    "\n",
    "function observable(env, model::MT, type) where {MT <: HamiltonianModel}\n",
    "    _, ALu, Cu, ARu, ALd, Cd, ARd, FL, FR, FLu, FRu = env\n",
    "    χ,D,Ni,Nj = size(ALu)[[1,2,4,5]]\n",
    "    atype = _arraytype(ALu)\n",
    "    M     = atype(model_tensor(model, Val(:bulk)))\n",
    "    M_obs = atype(model_tensor(model, type      ))\n",
    "    obs_tol = 0\n",
    "    ACu = ALCtoAC(ALu, Cu)\n",
    "    ACd = ALCtoAC(ALd, Cd)\n",
    "\n",
    "    for j = 1:Nj,i = 1:Ni\n",
    "        ir = Ni + 1 - i\n",
    "        obs = ein\"(((adf,abc),dgeb),fgh),ceh -> \"(FL[:,:,:,i,j],ACu[:,:,:,i,j],M_obs[:,:,:,:,i,j],ACd[:,:,:,ir,j],FR[:,:,:,i,j])\n",
    "        λ = ein\"(((adf,abc),dgeb),fgh),ceh -> \"(FL[:,:,:,i,j],ACu[:,:,:,i,j],M[:,:,:,:,i,j],ACd[:,:,:,ir,j],FR[:,:,:,i,j])\n",
    "        obs_tol += Array(obs)[]/Array(λ)[]\n",
    "    end\n",
    "    if type == Val(:mag)\n",
    "        obs_tol = abs(obs_tol)\n",
    "    end\n",
    "    return obs_tol/Ni/Nj\n",
    "end\n",
    "\n",
    "\"\"\"\n",
    "    magofβ(::Ising,β)\n",
    "return the analytical result for the magnetisation at inverse temperature\n",
    "`β` for the 2d classical ising model.\n",
    "\"\"\"\n",
    "magofβ(model::Ising) = model.β > isingβc ? (1-sinh(2*model.β)^-4)^(1/8) : 0."
   ]
  },
  {
   "cell_type": "code",
   "execution_count": 58,
   "metadata": {},
   "outputs": [
    {
     "name": "stdout",
     "output_type": "stream",
     "text": [
      "\u001b[0m\u001b[1mTest Summary:                | \u001b[22m\u001b[32m\u001b[1mPass  \u001b[22m\u001b[39m\u001b[36m\u001b[1mTotal\u001b[22m\u001b[39m\n",
      "1x1 ising forward with Array | \u001b[32m   3  \u001b[39m\u001b[36m    3\u001b[39m\n"
     ]
    },
    {
     "data": {
      "text/plain": [
       "1-element Vector{Any}:\n",
       " Test.DefaultTestSet(\"1x1 ising forward with Array\", Any[], 3, false, false)"
      ]
     },
     "metadata": {},
     "output_type": "display_data"
    }
   ],
   "source": [
    "using Test\n",
    "\n",
    "@testset \"$(Ni)x$(Nj) ising forward with $atype\" for Ni = [1], Nj = [1], atype = [Array]\n",
    "    Random.seed!(100)\n",
    "    β = 0.5\n",
    "    model = Ising(Ni, Nj, β)\n",
    "    M = atype(model_tensor(model, Val(:bulk)))\n",
    "    env = obs_env(M; χ = 10, maxiter = 10, miniter = 1, \n",
    "         infolder = \"./example/data/$model/\", \n",
    "        outfolder = \"./example/data/$model/\", \n",
    "        updown = false, verbose = false, savefile = false\n",
    "        )\n",
    "    @test observable(env, model, Val(:Z)     ) ≈ 2.789305993957602\n",
    "    @test observable(env, model, Val(:mag)   ) ≈ magofβ(model) \n",
    "    @test observable(env, model, Val(:energy)) ≈ -1.745564581767667\n",
    "end"
   ]
  },
  {
   "cell_type": "markdown",
   "metadata": {},
   "source": [
    "## Step 4(optional): calculate energy by Zygote.gradient"
   ]
  },
  {
   "cell_type": "code",
   "execution_count": 52,
   "metadata": {},
   "outputs": [
    {
     "name": "stdout",
     "output_type": "stream",
     "text": [
      "\u001b[0m\u001b[1mTest Summary:                 | \u001b[22m\u001b[32m\u001b[1mPass  \u001b[22m\u001b[39m\u001b[36m\u001b[1mTotal\u001b[22m\u001b[39m\n",
      "1x1 ising backward with Array | \u001b[32m   1  \u001b[39m\u001b[36m    1\u001b[39m\n"
     ]
    },
    {
     "data": {
      "text/plain": [
       "1-element Vector{Any}:\n",
       " Test.DefaultTestSet(\"1x1 ising backward with Array\", Any[], 1, false, false)"
      ]
     },
     "metadata": {},
     "output_type": "display_data"
    }
   ],
   "source": [
    "@testset \"$(Ni)x$(Nj) ising backward with $atype\" for Ni = [1], Nj = [1], atype = [Array]\n",
    "    Random.seed!(100)\n",
    "    function logZ(β)\n",
    "        model = Ising(1, 1, β)\n",
    "        M = model_tensor(model, Val(:bulk))\n",
    "        env = obs_env(M;χ = 10, maxiter = 10, miniter = 1, \n",
    "                        updown = false, verbose = false, savefile = false\n",
    "                    )\n",
    "        log(real(observable(env, model, Val(:Z))))\n",
    "    end\n",
    "    @test Zygote.gradient(β->-logZ(β), 0.5)[1] ≈ -1.745564581767667\n",
    "end"
   ]
  },
  {
   "cell_type": "markdown",
   "metadata": {},
   "source": [
    "<font size=5>*try different Temperature $\\beta$, bond dimension $\\chi$, unit cell size $Ni \\times Nj$ and CuArray with GPU!*</font>"
   ]
  }
 ],
 "metadata": {
  "kernelspec": {
   "display_name": "Julia 1.7.3",
   "language": "julia",
   "name": "julia-1.7"
  },
  "language_info": {
   "file_extension": ".jl",
   "mimetype": "application/julia",
   "name": "julia",
   "version": "1.7.3"
  },
  "orig_nbformat": 4
 },
 "nbformat": 4,
 "nbformat_minor": 2
}
