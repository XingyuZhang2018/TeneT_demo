{
 "cells": [
  {
   "cell_type": "markdown",
   "metadata": {},
   "source": [
    "instantiate package"
   ]
  },
  {
   "cell_type": "code",
   "execution_count": 20,
   "metadata": {},
   "outputs": [
    {
     "name": "stderr",
     "output_type": "stream",
     "text": [
      "\u001b[32m\u001b[1m  Activating\u001b[22m\u001b[39m project at `e:\\1 - research\\4.9 - AutoDiff\\TeneT_demo`\n"
     ]
    }
   ],
   "source": [
    "using Pkg\n",
    "Pkg.activate(\"../\")\n",
    "Pkg.instantiate()\n",
    "using TeneT\n",
    "using TeneT_demo"
   ]
  },
  {
   "cell_type": "markdown",
   "metadata": {},
   "source": [
    "# 2D classical Ising model\n",
    "The ''energy'' of a configuration $\\sigma$ is given by the Hamiltonian function:\n",
    "\n",
    "$H(\\sigma) = -\\sum_{\\langle i~j\\rangle} J \\sigma_i \\sigma_j$  ($J>0$)\n",
    "\n",
    "The Boltzmann factor is:\n",
    "\n",
    "$W_{i~j} = e^{-\\beta E_{i~j}}$\n",
    "\n",
    "We can solve this model by TeneT.jl in follow steps:"
   ]
  },
  {
   "cell_type": "markdown",
   "metadata": {},
   "source": [
    "## Step 1: define M tensor\n",
    " <img src=\"../picture/build_M_tensor.png\" width = \"30%\" height = \"30%\" align=center />"
   ]
  },
  {
   "cell_type": "code",
   "execution_count": 9,
   "metadata": {},
   "outputs": [
    {
     "name": "stdout",
     "output_type": "stream",
     "text": [
      "\u001b[0m\u001b[1mTest Summary:      | \u001b[22m\u001b[32m\u001b[1mPass  \u001b[22m\u001b[39m\u001b[36m\u001b[1mTotal\u001b[22m\u001b[39m\n",
      "Ising model_tensor | \u001b[32m   3  \u001b[39m\u001b[36m    3\u001b[39m\n",
      "\u001b[0m\u001b[1mTest Summary:      | \u001b[22m\u001b[32m\u001b[1mPass  \u001b[22m\u001b[39m\u001b[36m\u001b[1mTotal\u001b[22m\u001b[39m\n",
      "Ising model_tensor | \u001b[32m   3  \u001b[39m\u001b[36m    3\u001b[39m\n",
      "\u001b[0m\u001b[1mTest Summary:      | \u001b[22m\u001b[32m\u001b[1mPass  \u001b[22m\u001b[39m\u001b[36m\u001b[1mTotal\u001b[22m\u001b[39m\n",
      "Ising model_tensor | \u001b[32m   3  \u001b[39m\u001b[36m    3\u001b[39m\n",
      "\u001b[0m\u001b[1mTest Summary:      | \u001b[22m\u001b[32m\u001b[1mPass  \u001b[22m\u001b[39m\u001b[36m\u001b[1mTotal\u001b[22m\u001b[39m\n",
      "Ising model_tensor | \u001b[32m   3  \u001b[39m\u001b[36m    3\u001b[39m\n"
     ]
    },
    {
     "data": {
      "text/plain": [
       "4-element Vector{Any}:\n",
       " Test.DefaultTestSet(\"Ising model_tensor\", Any[], 3, false, false)\n",
       " Test.DefaultTestSet(\"Ising model_tensor\", Any[], 3, false, false)\n",
       " Test.DefaultTestSet(\"Ising model_tensor\", Any[], 3, false, false)\n",
       " Test.DefaultTestSet(\"Ising model_tensor\", Any[], 3, false, false)"
      ]
     },
     "metadata": {},
     "output_type": "display_data"
    }
   ],
   "source": [
    "using Test\n",
    "\n",
    "@testset \"Ising model_tensor\" for Ni in [1,2], Nj in [1,2]\n",
    "    model = Ising(Ni,Nj,0.5)\n",
    "    @test size(model_tensor(model, Val(:bulk)))   == (2,2,2,2,Ni,Nj)\n",
    "    @test size(model_tensor(model, Val(:mag) ))   == (2,2,2,2,Ni,Nj)\n",
    "    @test size(model_tensor(model, Val(:energy))) == (2,2,2,2,Ni,Nj)\n",
    "end"
   ]
  },
  {
   "cell_type": "markdown",
   "metadata": {},
   "source": [
    "## Step 2: use TeneT.obs_env to get environment"
   ]
  },
  {
   "cell_type": "code",
   "execution_count": 10,
   "metadata": {},
   "outputs": [
    {
     "name": "stdout",
     "output_type": "stream",
     "text": [
      "↑ "
     ]
    },
    {
     "name": "stdout",
     "output_type": "stream",
     "text": [
      "random initial 1×1 vumps_χ10 environment-> "
     ]
    },
    {
     "name": "stdout",
     "output_type": "stream",
     "text": [
      "vumps@step: 1, error=Inf\n"
     ]
    },
    {
     "name": "stdout",
     "output_type": "stream",
     "text": [
      "vumps@step: 2, error=0.01730159744333545\n",
      "vumps@step: 3, error=0.0006110217932778949\n",
      "vumps@step: 4, error=8.525419213658111e-7\n",
      "vumps@step: 5, error=1.486693561895049e-7\n",
      "vumps@step: 6, error=3.5210780596961775e-8\n",
      "vumps@step: 7, error=7.535505333349743e-9\n"
     ]
    },
    {
     "name": "stdout",
     "output_type": "stream",
     "text": [
      "vumps@step: 8, error=1.640536608963289e-9\n",
      "vumps@step: 9, error=3.7020363904278236e-10\n",
      "vumps done@step: 9, error=8.508814802635002e-11"
     ]
    },
    {
     "name": "stdout",
     "output_type": "stream",
     "text": [
      "\n"
     ]
    }
   ],
   "source": [
    "using Random\n",
    "Random.seed!(100)\n",
    "\n",
    "β = 0.5\n",
    "model = Ising(1, 1, β)\n",
    "M = model_tensor(model, Val(:bulk))\n",
    "env = TeneT.obs_env(M; χ=10, maxiter=10, miniter=1, \n",
    "                    updown=false, verbose=true, show_every=1);"
   ]
  },
  {
   "cell_type": "markdown",
   "metadata": {},
   "source": [
    "## Step 3: use env to calculate observable"
   ]
  },
  {
   "cell_type": "code",
   "execution_count": 11,
   "metadata": {},
   "outputs": [
    {
     "name": "stdout",
     "output_type": "stream",
     "text": [
      "\u001b[0m\u001b[1mTest Summary:                | \u001b[22m\u001b[32m\u001b[1mPass  \u001b[22m\u001b[39m\u001b[36m\u001b[1mTotal\u001b[22m\u001b[39m\n",
      "1x1 ising forward with Array | \u001b[32m   3  \u001b[39m\u001b[36m    3\u001b[39m\n"
     ]
    },
    {
     "data": {
      "text/plain": [
       "1-element Vector{Any}:\n",
       " Test.DefaultTestSet(\"1x1 ising forward with Array\", Any[], 3, false, false)"
      ]
     },
     "metadata": {},
     "output_type": "display_data"
    }
   ],
   "source": [
    "using TeneT_demo: magofβ\n",
    "\n",
    "@testset \"$(Ni)x$(Nj) ising forward with $atype\" for Ni = [1], Nj = [1], atype = [Array]\n",
    "    Random.seed!(100)\n",
    "    β = 0.5\n",
    "    model = Ising(Ni, Nj, β)\n",
    "    M = atype(model_tensor(model, Val(:bulk)))\n",
    "    env = obs_env(M; χ = 10, maxiter = 10, miniter = 1, \n",
    "         infolder = \"./example/data/$model/\", \n",
    "        outfolder = \"./example/data/$model/\", \n",
    "        updown = false, verbose = false, savefile = false\n",
    "        )\n",
    "    @test observable(env, model, Val(:Z)     ) ≈ 2.789305993957602\n",
    "    @test observable(env, model, Val(:mag)   ) ≈ magofβ(model) \n",
    "    @test observable(env, model, Val(:energy)) ≈ -1.745564581767667\n",
    "end"
   ]
  },
  {
   "cell_type": "markdown",
   "metadata": {},
   "source": [
    "## Step 4(optional): calculate energy by Zygote.gradient"
   ]
  },
  {
   "cell_type": "code",
   "execution_count": 12,
   "metadata": {},
   "outputs": [
    {
     "name": "stdout",
     "output_type": "stream",
     "text": [
      "\u001b[0m\u001b[1mTest Summary:                 | \u001b[22m\u001b[32m\u001b[1mPass  \u001b[22m\u001b[39m\u001b[36m\u001b[1mTotal\u001b[22m\u001b[39m\n",
      "1x1 ising backward with Array | \u001b[32m   1  \u001b[39m\u001b[36m    1\u001b[39m\n"
     ]
    },
    {
     "data": {
      "text/plain": [
       "1-element Vector{Any}:\n",
       " Test.DefaultTestSet(\"1x1 ising backward with Array\", Any[], 1, false, false)"
      ]
     },
     "metadata": {},
     "output_type": "display_data"
    }
   ],
   "source": [
    "using Zygote\n",
    "\n",
    "@testset \"$(Ni)x$(Nj) ising backward with $atype\" for Ni = [1], Nj = [1], atype = [Array]\n",
    "    Random.seed!(100)\n",
    "    function logZ(β)\n",
    "        model = Ising(1, 1, β)\n",
    "        M = model_tensor(model, Val(:bulk))\n",
    "        env = obs_env(M;χ = 10, maxiter = 10, miniter = 1, \n",
    "                        updown = false, verbose = false, savefile = false\n",
    "                    )\n",
    "        log(real(observable(env, model, Val(:Z))))\n",
    "    end\n",
    "    @test Zygote.gradient(β->-logZ(β), 0.5)[1] ≈ -1.745564581767667\n",
    "end"
   ]
  },
  {
   "cell_type": "markdown",
   "metadata": {},
   "source": [
    "<font size=5>*try different Temperature $\\beta$, bond dimension $\\chi$, unit cell size $Ni \\times Nj$ and CuArray with GPU!*</font>"
   ]
  },
  {
   "cell_type": "markdown",
   "metadata": {},
   "source": [
    "# Finding the Ground State of infinite 2D Heisenberg model\n",
    "The Heisenberg Hamiltonian function is:\n",
    "\n",
    "$H = \\sum_{\\langle i~j\\rangle} J^x S_i^x S_j^x + J^y S_i^y S_j^y + J^z S_i^z S_j^z $\n",
    "\n",
    "\n"
   ]
  },
  {
   "cell_type": "code",
   "execution_count": 13,
   "metadata": {},
   "outputs": [
    {
     "name": "stdout",
     "output_type": "stream",
     "text": [
      "\u001b[0m\u001b[1mTest Summary: | \u001b[22m\u001b[32m\u001b[1mPass  \u001b[22m\u001b[39m\u001b[36m\u001b[1mTotal\u001b[22m\u001b[39m\n",
      "hamiltonian   | \u001b[32m   2  \u001b[39m\u001b[36m    2\u001b[39m\n"
     ]
    },
    {
     "data": {
      "text/plain": [
       "Test.DefaultTestSet(\"hamiltonian\", Any[], 2, false, false)"
      ]
     },
     "metadata": {},
     "output_type": "display_data"
    }
   ],
   "source": [
    "@testset \"hamiltonian\" begin\n",
    "    h = hamiltonian(Heisenberg(1,1))\n",
    "    @test size(h) == (2,2,2,2)\n",
    "    rh = reshape(permutedims(h,(1,3,2,4)),4,4)\n",
    "    @test rh' == rh\n",
    "end"
   ]
  },
  {
   "cell_type": "markdown",
   "metadata": {},
   "source": [
    "The algorithm variationally minimizes the energy of a Heisenberg model on a two-dimensional infinite lattice using a form of gradient descent."
   ]
  },
  {
   "cell_type": "markdown",
   "metadata": {},
   "source": [
    "## Step 1: initial iPEPS tensor"
   ]
  },
  {
   "cell_type": "code",
   "execution_count": 14,
   "metadata": {},
   "outputs": [
    {
     "name": "stdout",
     "output_type": "stream",
     "text": [
      "random initial BCiPEPS ./data/1x1/Heisenberg{Float64}(1, 1, 1.0, 1.0, 1.0)\\D2_χ10_tol1.0e-10_maxiter10.jld2\n"
     ]
    },
    {
     "name": "stdout",
     "output_type": "stream",
     "text": [
      "\u001b[0m\u001b[1mTest Summary: | \u001b[22m\u001b[32m\u001b[1mPass  \u001b[22m\u001b[39m\u001b[36m\u001b[1mTotal\u001b[22m\u001b[39m\n",
      "init_ipeps    | \u001b[32m   1  \u001b[39m\u001b[36m    1\u001b[39m\n",
      "random initial BCiPEPS ./data/1x1/Heisenberg{Float64}(1, 1, 1.0, 1.0, 1.0)\\D3_χ10_tol1.0e-10_maxiter10.jld2\n",
      "\u001b[0m\u001b[1mTest Summary: | \u001b[22m\u001b[32m\u001b[1mPass  \u001b[22m\u001b[39m\u001b[36m\u001b[1mTotal\u001b[22m\u001b[39m\n",
      "init_ipeps    | \u001b[32m   1  \u001b[39m\u001b[36m    1\u001b[39m\n",
      "random initial BCiPEPS ./data/1x2/Heisenberg{Float64}(1, 2, 1.0, 1.0, 1.0)\\D2_χ10_tol1.0e-10_maxiter10.jld2\n",
      "\u001b[0m\u001b[1mTest Summary: | \u001b[22m\u001b[32m\u001b[1mPass  \u001b[22m\u001b[39m\u001b[36m\u001b[1mTotal\u001b[22m\u001b[39m\n",
      "init_ipeps    | \u001b[32m   1  \u001b[39m\u001b[36m    1\u001b[39m\n",
      "random initial BCiPEPS ./data/1x2/Heisenberg{Float64}(1, 2, 1.0, 1.0, 1.0)\\D3_χ10_tol1.0e-10_maxiter10.jld2\n",
      "\u001b[0m\u001b[1mTest Summary: | \u001b[22m\u001b[32m\u001b[1mPass  \u001b[22m\u001b[39m\u001b[36m\u001b[1mTotal\u001b[22m\u001b[39m\n",
      "init_ipeps    | \u001b[32m   1  \u001b[39m\u001b[36m    1\u001b[39m\n",
      "random initial BCiPEPS ./data/2x1/Heisenberg{Float64}(2, 1, 1.0, 1.0, 1.0)\\D2_χ10_tol1.0e-10_maxiter10.jld2\n",
      "\u001b[0m\u001b[1mTest Summary: | \u001b[22m\u001b[32m\u001b[1mPass  \u001b[22m\u001b[39m\u001b[36m\u001b[1mTotal\u001b[22m\u001b[39m\n",
      "init_ipeps    | \u001b[32m   1  \u001b[39m\u001b[36m    1\u001b[39m\n",
      "random initial BCiPEPS ./data/2x1/Heisenberg{Float64}(2, 1, 1.0, 1.0, 1.0)\\D3_χ10_tol1.0e-10_maxiter10.jld2\n",
      "\u001b[0m\u001b[1mTest Summary: | \u001b[22m\u001b[32m\u001b[1mPass  \u001b[22m\u001b[39m\u001b[36m\u001b[1mTotal\u001b[22m\u001b[39m\n",
      "init_ipeps    | \u001b[32m   1  \u001b[39m\u001b[36m    1\u001b[39m\n",
      "random initial BCiPEPS ./data/2x2/Heisenberg{Float64}(2, 2, 1.0, 1.0, 1.0)\\D2_χ10_tol1.0e-10_maxiter10.jld2\n",
      "\u001b[0m\u001b[1mTest Summary: | \u001b[22m\u001b[32m\u001b[1mPass  \u001b[22m\u001b[39m\u001b[36m\u001b[1mTotal\u001b[22m\u001b[39m\n",
      "init_ipeps    | \u001b[32m   1  \u001b[39m\u001b[36m    1\u001b[39m\n",
      "random initial BCiPEPS ./data/2x2/Heisenberg{Float64}(2, 2, 1.0, 1.0, 1.0)\\D3_χ10_tol1.0e-10_maxiter10.jld2\n",
      "\u001b[0m\u001b[1mTest Summary: | \u001b[22m\u001b[32m\u001b[1mPass  \u001b[22m\u001b[39m\u001b[36m\u001b[1mTotal\u001b[22m\u001b[39m\n",
      "init_ipeps    | \u001b[32m   1  \u001b[39m\u001b[36m    1\u001b[39m\n"
     ]
    },
    {
     "data": {
      "text/plain": [
       "8-element Vector{Any}:\n",
       " Test.DefaultTestSet(\"init_ipeps\", Any[], 1, false, false)\n",
       " Test.DefaultTestSet(\"init_ipeps\", Any[], 1, false, false)\n",
       " Test.DefaultTestSet(\"init_ipeps\", Any[], 1, false, false)\n",
       " Test.DefaultTestSet(\"init_ipeps\", Any[], 1, false, false)\n",
       " Test.DefaultTestSet(\"init_ipeps\", Any[], 1, false, false)\n",
       " Test.DefaultTestSet(\"init_ipeps\", Any[], 1, false, false)\n",
       " Test.DefaultTestSet(\"init_ipeps\", Any[], 1, false, false)\n",
       " Test.DefaultTestSet(\"init_ipeps\", Any[], 1, false, false)"
      ]
     },
     "metadata": {},
     "output_type": "display_data"
    }
   ],
   "source": [
    "@testset \"init_ipeps\" for Ni = [1,2], Nj = [1,2], D in [2,3], χ in [10]\n",
    "    model = Heisenberg(Ni,Nj)\n",
    "    A, key = init_ipeps(model; Ni=Ni, Nj=Nj, D=D, χ=χ);\n",
    "    @test size(A) == (D,D,D,D,2,Ni,Nj)\n",
    "end"
   ]
  },
  {
   "cell_type": "markdown",
   "metadata": {},
   "source": [
    "## Step 2: contract the tensor network to get the energy"
   ]
  },
  {
   "cell_type": "markdown",
   "metadata": {},
   "source": [
    "We don't have constraints on ipeps, so the horizontal and vertical bond energy is different and we should use both the up and down environment."
   ]
  },
  {
   "cell_type": "code",
   "execution_count": 15,
   "metadata": {},
   "outputs": [
    {
     "name": "stdout",
     "output_type": "stream",
     "text": [
      "random initial BCiPEPS ./data/1x1/Heisenberg{Float64}(1, 1, 1.0, 1.0, 1.0)\\D2_χ10_tol1.0e-10_maxiter10.jld2"
     ]
    },
    {
     "name": "stdout",
     "output_type": "stream",
     "text": [
      "\n",
      "Horizontal Contraction Complexity(seed=60)(18.501837184902293, 12.643856189774723)\n"
     ]
    },
    {
     "name": "stdout",
     "output_type": "stream",
     "text": [
      "Vertical Contraction Complexity(seed=60)(18.501837184902293, 12.643856189774723)\n"
     ]
    },
    {
     "name": "stdout",
     "output_type": "stream",
     "text": [
      "↑ random initial 1×1 vumps_χ10 environment-> "
     ]
    },
    {
     "name": "stdout",
     "output_type": "stream",
     "text": [
      "vumps done@step: 6, error=2.7782652390435756e-11\n"
     ]
    },
    {
     "name": "stdout",
     "output_type": "stream",
     "text": [
      "↓ random initial 1×1 vumps_χ10 environment-> "
     ]
    },
    {
     "name": "stdout",
     "output_type": "stream",
     "text": [
      "vumps done@step: 10, error=1.6564982654725892e-7\n"
     ]
    },
    {
     "name": "stdout",
     "output_type": "stream",
     "text": [
      "===========1,1===========\n"
     ]
    },
    {
     "name": "stdout",
     "output_type": "stream",
     "text": [
      "Horizontal energy = 0.24991572743449766 + 1.9110536510279526e-12im"
     ]
    },
    {
     "name": "stdout",
     "output_type": "stream",
     "text": [
      "\n",
      "Vertical energy = 0.24991961018128714 + 5.351124086022837e-12im\n",
      "e = 0.4998353376157848 + 7.262177737050789e-12im\n",
      "energy(h, A, oc, key; verbose = true, savefile = true) = 0.4998353376157848 + 7.262177737050789e-12im\n",
      "\u001b[0m\u001b[1mTest Summary: |\u001b[22m\n",
      "energy        | \u001b[36mNo tests\u001b[39m\n",
      "random initial BCiPEPS ./data/1x1/Heisenberg{Float64}(1, 1, 1.0, 1.0, 1.0)\\D3_χ10_tol1.0e-10_maxiter10.jld2\n",
      "Horizontal Contraction Complexity(seed=60)(22.5340254495046, 14.983706192659348)\n",
      "Vertical Contraction Complexity(seed=60)(22.5340254495046, 14.983706192659348)\n"
     ]
    },
    {
     "name": "stdout",
     "output_type": "stream",
     "text": [
      "↑ random initial 1×1 vumps_χ10 environment-> "
     ]
    },
    {
     "name": "stdout",
     "output_type": "stream",
     "text": [
      "vumps done@step: 10, error=1.3757287350638443e-7\n",
      "↓ random initial 1×1 vumps_χ10 environment-> "
     ]
    },
    {
     "name": "stdout",
     "output_type": "stream",
     "text": [
      "vumps done@step: 10, error=5.428584177352408e-9\n",
      "===========1,1===========\n",
      "Horizontal energy = 0.24997823917856152 - 5.4618769783622356e-12im\n",
      "Vertical energy = 0.2499600232174339 - 2.2576762081804176e-9im\n",
      "e = 0.4999382623959954 - 2.26313808515878e-9im\n",
      "energy(h, A, oc, key; verbose = true, savefile = true) = 0.4999382623959954 - 2.26313808515878e-9im\n",
      "\u001b[0m\u001b[1mTest Summary: |\u001b[22m\n",
      "energy        | \u001b[36mNo tests\u001b[39m\n"
     ]
    },
    {
     "data": {
      "text/plain": [
       "2-element Vector{Any}:\n",
       " Test.DefaultTestSet(\"energy\", Any[], 0, false, false)\n",
       " Test.DefaultTestSet(\"energy\", Any[], 0, false, false)"
      ]
     },
     "metadata": {},
     "output_type": "display_data"
    }
   ],
   "source": [
    "using TeneT_demo: optcont, energy\n",
    "\n",
    "@testset \"energy\" for Ni = [1], Nj = [1], D in [2,3], χ in [10]\n",
    "    model = Heisenberg(Ni,Nj)\n",
    "    A, key = init_ipeps(model; Ni=Ni, Nj=Nj, D=D, χ=χ)\n",
    "    oc = optcont(D, χ)\n",
    "    h = hamiltonian(model)\n",
    "    @show energy(h, A, oc, key; verbose = true, savefile = true)\n",
    "end"
   ]
  },
  {
   "cell_type": "markdown",
   "metadata": {},
   "source": [
    "## Step 3: optimise the ipeps by gradient"
   ]
  },
  {
   "cell_type": "markdown",
   "metadata": {},
   "source": [
    "The ground state of Heisenberg model is antiferromagnetic, which means we should use $2 \\times 2$ unit cell to simulate it directly.\n",
    "\n",
    " <img src=\"../picture/antiferromagnetic_configuration.png\" width = \"30%\" height = \"30%\" align=center />"
   ]
  },
  {
   "cell_type": "code",
   "execution_count": 21,
   "metadata": {},
   "outputs": [
    {
     "name": "stdout",
     "output_type": "stream",
     "text": [
      "Horizontal Contraction Complexity(seed=60)(18.501837184902293, 12.643856189774723)\n",
      "Vertical Contraction Complexity(seed=60)(18.501837184902293, 12.643856189774723)\n",
      "\u001b[31m\u001b[1mtime  steps   energy           grad_norm\u001b[22m\u001b[39m\n"
     ]
    },
    {
     "name": "stdout",
     "output_type": "stream",
     "text": [
      "\u001b[31m\u001b[1m0.0   0       0.4762782727    0.1319273161\u001b[22m\u001b[39m\n"
     ]
    },
    {
     "name": "stdout",
     "output_type": "stream",
     "text": [
      "\u001b[31m\u001b[1m3.5   1       0.0754468132    0.16519771\u001b[22m\u001b[39m\n"
     ]
    },
    {
     "name": "stdout",
     "output_type": "stream",
     "text": [
      "\u001b[31m\u001b[1m5.0   2       -0.1938688851    0.0586885185\u001b[22m\u001b[39m\n"
     ]
    },
    {
     "name": "stdout",
     "output_type": "stream",
     "text": [
      "\u001b[31m\u001b[1m7.4   3       -0.5002361671    0.0445462218\u001b[22m\u001b[39m\n"
     ]
    },
    {
     "name": "stdout",
     "output_type": "stream",
     "text": [
      "\u001b[31m\u001b[1m9.1   4       -0.5331994013    0.0198853251\u001b[22m\u001b[39m\n"
     ]
    },
    {
     "name": "stdout",
     "output_type": "stream",
     "text": [
      "\u001b[31m\u001b[1m12.2   5       -0.5503716694    0.0364252258\u001b[22m\u001b[39m\n"
     ]
    },
    {
     "name": "stdout",
     "output_type": "stream",
     "text": [
      "\u001b[31m\u001b[1m21.3   6       -0.5979507636    0.0324677634\u001b[22m\u001b[39m\n"
     ]
    },
    {
     "name": "stdout",
     "output_type": "stream",
     "text": [
      "\u001b[31m\u001b[1m26.8   7       -0.615478858    0.0164472068\u001b[22m\u001b[39m\n"
     ]
    },
    {
     "name": "stdout",
     "output_type": "stream",
     "text": [
      "\u001b[31m\u001b[1m31.2   8       -0.62510908    0.0109860641\u001b[22m\u001b[39m\n"
     ]
    },
    {
     "name": "stdout",
     "output_type": "stream",
     "text": [
      "\u001b[31m\u001b[1m35.8   9       -0.6310911674    0.0115649255\u001b[22m\u001b[39m\n"
     ]
    },
    {
     "name": "stdout",
     "output_type": "stream",
     "text": [
      "\u001b[31m\u001b[1m39.5   10       -0.6389207203    0.0093456891\u001b[22m\u001b[39m\n"
     ]
    },
    {
     "name": "stdout",
     "output_type": "stream",
     "text": [
      "\u001b[31m\u001b[1m41.7   11       -0.6428430692    0.0087659982\u001b[22m\u001b[39m\n"
     ]
    },
    {
     "name": "stdout",
     "output_type": "stream",
     "text": [
      "\u001b[31m\u001b[1m47.3   12       -0.6498808788    0.012117671\u001b[22m\u001b[39m\n"
     ]
    },
    {
     "name": "stdout",
     "output_type": "stream",
     "text": [
      "\u001b[31m\u001b[1m51.7   13       -0.6535143353    0.0116099942\u001b[22m\u001b[39m\n"
     ]
    },
    {
     "name": "stdout",
     "output_type": "stream",
     "text": [
      "\u001b[31m\u001b[1m56.0   14       -0.6574016408    0.0067153719\u001b[22m\u001b[39m\n"
     ]
    },
    {
     "name": "stdout",
     "output_type": "stream",
     "text": [
      "\u001b[31m\u001b[1m61.6   15       -0.6593816973    0.0036668951\u001b[22m\u001b[39m\n"
     ]
    },
    {
     "name": "stdout",
     "output_type": "stream",
     "text": [
      "\u001b[31m\u001b[1m65.9   16       -0.6597562182    0.0015443799\u001b[22m\u001b[39m\n"
     ]
    },
    {
     "name": "stdout",
     "output_type": "stream",
     "text": [
      "\u001b[31m\u001b[1m70.8   17       -0.6598992556    0.0011712236\u001b[22m\u001b[39m\n"
     ]
    },
    {
     "name": "stdout",
     "output_type": "stream",
     "text": [
      "\u001b[31m\u001b[1m73.9   18       -0.6600553975    0.0011398697\u001b[22m\u001b[39m\n"
     ]
    },
    {
     "name": "stdout",
     "output_type": "stream",
     "text": [
      "\u001b[31m\u001b[1m77.3   19       -0.6601239066    0.0007862693\u001b[22m\u001b[39m\n"
     ]
    },
    {
     "name": "stdout",
     "output_type": "stream",
     "text": [
      "\u001b[31m\u001b[1m81.0   20       -0.660150505    0.0004201797\u001b[22m\u001b[39m\n"
     ]
    },
    {
     "name": "stdout",
     "output_type": "stream",
     "text": [
      "\u001b[0m\u001b[1mTest Summary:  |\u001b[22m\n",
      "optimise_ipeps | \u001b[36mNo tests\u001b[39m\n"
     ]
    },
    {
     "data": {
      "text/plain": [
       "1-element Vector{Any}:\n",
       " Test.DefaultTestSet(\"optimise_ipeps\", Any[], 0, false, false)"
      ]
     },
     "metadata": {},
     "output_type": "display_data"
    }
   ],
   "source": [
    "using Optim\n",
    "using Random\n",
    "\n",
    "@testset \"optimise_ipeps\" for Ni = [2], Nj = [2], D in [2], χ in [10]\n",
    "    Random.seed!(100)\n",
    "    model = Heisenberg(Ni,Nj,1.0,1.0,1.0)\n",
    "    A, key = init_ipeps(model; Ni=Ni, Nj=Nj, D=D, χ=χ, verbose= false)\n",
    "    optimise_ipeps(A, key; f_tol = 1e-6, opiter = 20, optimmethod = LBFGS(m = 20))\n",
    "end"
   ]
  },
  {
   "cell_type": "markdown",
   "metadata": {},
   "source": [
    "<font size=5>*The configuration is ABBA, so we can simplify the ipeps by only using A and B two tensors. Try to verify it!*</font>"
   ]
  },
  {
   "cell_type": "markdown",
   "metadata": {},
   "source": [
    "<font size=5>*If we only want ground state, the follow $1 \\times 1$ unit cell is also correct. Think about why.*</font>"
   ]
  },
  {
   "cell_type": "markdown",
   "metadata": {},
   "source": [
    " Hint: Flip the second spin."
   ]
  },
  {
   "cell_type": "code",
   "execution_count": 23,
   "metadata": {},
   "outputs": [
    {
     "name": "stdout",
     "output_type": "stream",
     "text": [
      "Horizontal Contraction Complexity(seed=60)(18.501837184902293, 12.643856189774723)\n",
      "Vertical Contraction Complexity(seed=60)(18.501837184902293, 12.643856189774723)\n",
      "\u001b[31m\u001b[1mtime  steps   energy           grad_norm\u001b[22m\u001b[39m\n"
     ]
    },
    {
     "name": "stdout",
     "output_type": "stream",
     "text": [
      "\u001b[31m\u001b[1m0.0   0       -0.4753796697    0.2117118078\u001b[22m\u001b[39m\n"
     ]
    },
    {
     "name": "stdout",
     "output_type": "stream",
     "text": [
      "\u001b[31m\u001b[1m4.3   1       -0.4881967138    0.1977033078\u001b[22m\u001b[39m\n"
     ]
    },
    {
     "name": "stdout",
     "output_type": "stream",
     "text": [
      "\u001b[31m\u001b[1m9.2   2       -0.5123718788    0.0803554653\u001b[22m\u001b[39m\n"
     ]
    },
    {
     "name": "stdout",
     "output_type": "stream",
     "text": [
      "\u001b[31m\u001b[1m16.4   3       -0.6069252459    0.1714754326\u001b[22m\u001b[39m\n"
     ]
    },
    {
     "name": "stdout",
     "output_type": "stream",
     "text": [
      "\u001b[31m\u001b[1m22.7   4       -0.6167041777    0.1442471941\u001b[22m\u001b[39m\n"
     ]
    },
    {
     "name": "stdout",
     "output_type": "stream",
     "text": [
      "\u001b[31m\u001b[1m25.2   5       -0.6434138423    0.0739206547\u001b[22m\u001b[39m\n"
     ]
    },
    {
     "name": "stdout",
     "output_type": "stream",
     "text": [
      "\u001b[31m\u001b[1m27.3   6       -0.6517351546    0.0383080671\u001b[22m\u001b[39m\n"
     ]
    },
    {
     "name": "stdout",
     "output_type": "stream",
     "text": [
      "\u001b[31m\u001b[1m29.1   7       -0.6561280495    0.0246115333\u001b[22m\u001b[39m\n"
     ]
    },
    {
     "name": "stdout",
     "output_type": "stream",
     "text": [
      "\u001b[31m\u001b[1m30.5   8       -0.6583648268    0.0169283622\u001b[22m\u001b[39m\n"
     ]
    },
    {
     "name": "stdout",
     "output_type": "stream",
     "text": [
      "\u001b[31m\u001b[1m31.9   9       -0.6592907025    0.012643922\u001b[22m\u001b[39m\n"
     ]
    },
    {
     "name": "stdout",
     "output_type": "stream",
     "text": [
      "\u001b[31m\u001b[1m33.6   10       -0.6597251703    0.0108248167\u001b[22m\u001b[39m\n"
     ]
    },
    {
     "name": "stdout",
     "output_type": "stream",
     "text": [
      "\u001b[31m\u001b[1m35.5   11       -0.6600736702    0.0070726818\u001b[22m\u001b[39m\n"
     ]
    },
    {
     "name": "stdout",
     "output_type": "stream",
     "text": [
      "\u001b[31m\u001b[1m37.3   12       -0.6601616088    0.0036462915\u001b[22m\u001b[39m\n"
     ]
    },
    {
     "name": "stdout",
     "output_type": "stream",
     "text": [
      "\u001b[31m\u001b[1m39.6   13       -0.6603015989    0.0061370618\u001b[22m\u001b[39m\n"
     ]
    },
    {
     "name": "stdout",
     "output_type": "stream",
     "text": [
      "\u001b[31m\u001b[1m41.8   14       -0.6604333616    0.0038589686\u001b[22m\u001b[39m\n"
     ]
    },
    {
     "name": "stdout",
     "output_type": "stream",
     "text": [
      "\u001b[31m\u001b[1m44.2   15       -0.6605451072    0.0050818562\u001b[22m\u001b[39m\n"
     ]
    },
    {
     "name": "stdout",
     "output_type": "stream",
     "text": [
      "\u001b[31m\u001b[1m46.1   16       -0.6606953182    0.0033192031\u001b[22m\u001b[39m\n"
     ]
    },
    {
     "name": "stdout",
     "output_type": "stream",
     "text": [
      "\u001b[31m\u001b[1m47.9   17       -0.6608058235    0.0036745965\u001b[22m\u001b[39m\n"
     ]
    },
    {
     "name": "stdout",
     "output_type": "stream",
     "text": [
      "\u001b[31m\u001b[1m50.2   18       -0.6609888647    0.0040790792\u001b[22m\u001b[39m\n"
     ]
    },
    {
     "name": "stdout",
     "output_type": "stream",
     "text": [
      "\u001b[31m\u001b[1m52.6   19       -0.6611696515    0.0045124839\u001b[22m\u001b[39m\n"
     ]
    },
    {
     "name": "stdout",
     "output_type": "stream",
     "text": [
      "\u001b[31m\u001b[1m55.6   20       -0.6614515083    0.0045678184\u001b[22m\u001b[39m\n"
     ]
    },
    {
     "name": "stdout",
     "output_type": "stream",
     "text": [
      "\u001b[0m\u001b[1mTest Summary:  |\u001b[22m\n",
      "optimise_ipeps | \u001b[36mNo tests\u001b[39m\n"
     ]
    },
    {
     "data": {
      "text/plain": [
       "1-element Vector{Any}:\n",
       " Test.DefaultTestSet(\"optimise_ipeps\", Any[], 0, false, false)"
      ]
     },
     "metadata": {},
     "output_type": "display_data"
    }
   ],
   "source": [
    "@testset \"optimise_ipeps\" for Ni = [1], Nj = [1], D in [2], χ in [10]\n",
    "    Random.seed!(100)\n",
    "    model = Heisenberg(Ni,Nj,-1.0,-1.0,1.0)\n",
    "    A, key = init_ipeps(model; Ni=Ni, Nj=Nj, D=D, χ=χ, verbose= false)\n",
    "    optimise_ipeps(A, key; f_tol = 1e-6, opiter = 20, optimmethod = LBFGS(m = 20))\n",
    "end"
   ]
  }
 ],
 "metadata": {
  "kernelspec": {
   "display_name": "Julia 1.7.3",
   "language": "julia",
   "name": "julia-1.7"
  },
  "language_info": {
   "file_extension": ".jl",
   "mimetype": "application/julia",
   "name": "julia",
   "version": "1.7.3"
  },
  "orig_nbformat": 4
 },
 "nbformat": 4,
 "nbformat_minor": 2
}
